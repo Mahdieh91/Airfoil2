{
 "cells": [
  {
   "cell_type": "code",
   "execution_count": null,
   "id": "a5e7272c",
   "metadata": {
    "lines_to_next_cell": 1
   },
   "outputs": [],
   "source": [
    "#Changes Made\n",
    "'''\n",
    "    Noise Generation: The diffusion_process function now uses a cosine function to create a noise factor.\n",
    "    Functionality: The noise is multiplied by the generated cosine wave, allowing control over the noise's amplitude over the timesteps.\n",
    "\n",
    "'''\n",
    "import os\n",
    "import numpy as np\n",
    "import torch\n",
    "import torch.nn as nn\n",
    "import torch.nn.functional as F\n",
    "import torch.optim as optim"
   ]
  },
  {
   "cell_type": "code",
   "execution_count": null,
   "id": "e0d9a730",
   "metadata": {
    "lines_to_next_cell": 1
   },
   "outputs": [],
   "source": [
    "class DiffusionModel(nn.Module):\n",
    "    def __init__(self, input_dim, hidden_sizes, latent_dim, activation_function):\n",
    "        super(DiffusionModel, self).__init__()\n",
    "        self.activation_function = activation_function\n",
    "\n",
    "        # Define the model architecture\n",
    "        self.layers = nn.ModuleList()\n",
    "        in_dim = input_dim\n",
    "        for h_dim in hidden_sizes:\n",
    "            self.layers.append(nn.Linear(in_dim, h_dim))\n",
    "            in_dim = h_dim\n",
    "\n",
    "        self.fc_out = nn.Linear(hidden_sizes[-1], input_dim)\n",
    "\n",
    "    def forward(self, x, t):\n",
    "        for layer in self.layers:\n",
    "            x = layer(x)\n",
    "            x = self.get_activation(x)\n",
    "        return self.fc_out(x)\n",
    "\n",
    "    def get_activation(self, x):\n",
    "        if self.activation_function == 'relu':\n",
    "            return F.relu(x)\n",
    "        elif self.activation_function == 'tanh':\n",
    "            return torch.tanh(x)\n",
    "        elif self.activation_function == 'leaky_relu':\n",
    "            return F.leaky_relu(x)\n",
    "        elif self.activation_function == 'sigmoid':\n",
    "            return torch.sigmoid(x)\n",
    "        else:\n",
    "            raise ValueError(\"Invalid activation function\")"
   ]
  },
  {
   "cell_type": "code",
   "execution_count": null,
   "id": "65bde87b",
   "metadata": {
    "lines_to_next_cell": 1
   },
   "outputs": [],
   "source": [
    "def loss_function(recon_x, x):\n",
    "    return F.mse_loss(recon_x, x)"
   ]
  },
  {
   "cell_type": "code",
   "execution_count": null,
   "id": "9b361946",
   "metadata": {
    "lines_to_next_cell": 1
   },
   "outputs": [],
   "source": [
    "def diffusion_process(data, timesteps):\n",
    "    # Create noise using a cosine function\n",
    "    noise_factor = torch.cos(torch.linspace(0, np.pi, timesteps)).unsqueeze(0)\n",
    "    noise = torch.randn_like(data) * noise_factor\n",
    "    return data + noise"
   ]
  },
  {
   "cell_type": "code",
   "execution_count": null,
   "id": "5d61f942",
   "metadata": {
    "lines_to_next_cell": 1
   },
   "outputs": [],
   "source": [
    "def random_search(train_data, input_dim, device, n_iter=20, epochs=1000):\n",
    "    best_params = None\n",
    "    best_loss = float('inf')\n",
    "\n",
    "    for i in range(n_iter):\n",
    "        hidden_layers = np.random.choice(range(2, 6))\n",
    "        hidden_sizes = [np.random.choice([50, 100, 150, 200, 250]) for _ in range(hidden_layers)]\n",
    "        learning_rate = np.random.choice([1e-5, 1e-4, 1e-3, 1e-2])\n",
    "        activation_function = np.random.choice(['relu'])\n",
    "\n",
    "        model = DiffusionModel(input_dim=input_dim, hidden_sizes=hidden_sizes, \n",
    "                                latent_dim=None, activation_function=activation_function).to(device)\n",
    "        optimizer = optim.Adam(model.parameters(), lr=learning_rate)\n",
    "\n",
    "        # Model training\n",
    "        model.train()\n",
    "        for epoch in range(epochs):\n",
    "            timesteps = np.random.randint(1, 100)\n",
    "            noisy_data = diffusion_process(train_data, timesteps)\n",
    "\n",
    "            recon = model(noisy_data, timesteps)\n",
    "            loss = loss_function(recon, train_data)\n",
    "\n",
    "            optimizer.zero_grad()\n",
    "            loss.backward()\n",
    "            optimizer.step()\n",
    "\n",
    "        # Model evaluation\n",
    "        model.eval()\n",
    "        with torch.no_grad():\n",
    "            recon = model(train_data, timesteps)\n",
    "            relative_loss = loss_function(recon, train_data)\n",
    "\n",
    "        if relative_loss < best_loss:\n",
    "            best_loss = relative_loss\n",
    "            best_params = (hidden_sizes, learning_rate, activation_function)\n",
    "            torch.save(model.state_dict(), 'best_diffusion_model.pth')\n",
    "\n",
    "        print(f'Iteration [{i + 1}/{n_iter}], Best params:{best_params}, Best Loss: {best_loss:.4f}')\n",
    "\n",
    "    return best_params, best_loss"
   ]
  },
  {
   "cell_type": "code",
   "execution_count": null,
   "id": "ec6d0e94",
   "metadata": {
    "lines_to_next_cell": 1
   },
   "outputs": [],
   "source": [
    "def main_train():\n",
    "    # Load data and prepare it\n",
    "    data = np.loadtxt('path_to_your_data.dat')\n",
    "    data_min = np.min(data, axis=0)\n",
    "    data_max = np.max(data, axis=0)\n",
    "    data_nom = (data - data_min) / (data_max - data_min)\n",
    "    data_tensor = torch.tensor(data_nom, dtype=torch.float32).to(device)\n",
    "\n",
    "    # Random search for the best parameters\n",
    "    best_params, best_loss = random_search(data_tensor, input_dim=data_tensor.shape[1], \n",
    "                                           device=device, n_iter=100, epochs=20000)\n",
    "    print(\"Best parameters:\", best_params)\n",
    "    print(\"Best loss:\", best_loss)"
   ]
  },
  {
   "cell_type": "code",
   "execution_count": null,
   "id": "ccd59faf",
   "metadata": {},
   "outputs": [],
   "source": [
    "if __name__ == \"__main__\":\n",
    "    os.environ[\"CUDA_VISIBLE_DEVICES\"] = \"0\"\n",
    "    device = torch.device(\"cuda\" if torch.cuda.is_available() else \"cpu\")\n",
    "    main_train()"
   ]
  }
 ],
 "metadata": {
  "jupytext": {
   "cell_metadata_filter": "-all",
   "main_language": "python",
   "notebook_metadata_filter": "-all"
  }
 },
 "nbformat": 4,
 "nbformat_minor": 5
}
