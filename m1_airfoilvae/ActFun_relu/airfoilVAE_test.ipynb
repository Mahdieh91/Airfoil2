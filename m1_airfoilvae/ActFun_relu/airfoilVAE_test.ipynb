{
 "cells": [
  {
   "cell_type": "code",
   "execution_count": null,
   "id": "05fe9020",
   "metadata": {},
   "outputs": [],
   "source": [
    "import torch\n",
    "import torch.nn as nn\n",
    "import torch.nn.functional as F\n",
    "import numpy as np\n",
    "from matplotlib import pyplot as plt\n",
    "from scipy.signal import savgol_filter\n",
    "from airfoilVAE_train import VAE, loss_function\n",
    "import pandas as pd\n",
    "import seaborn as sns"
   ]
  },
  {
   "cell_type": "code",
   "execution_count": null,
   "id": "8f77b0c7",
   "metadata": {},
   "outputs": [],
   "source": [
    "# data load\n",
    "data = np.loadtxt('airfoils.dat')\n",
    "data = data[:, 1:]\n",
    "data = data + noise\n",
    "data_min = np.min(data, axis=0)\n",
    "data_max = np.max(data, axis=0)\n",
    "data_nom = (data - data_min) / (data_max - data_min)\n",
    "data_tensor = torch.tensor(data_nom, dtype=torch.float32)"
   ]
  },
  {
   "cell_type": "code",
   "execution_count": null,
   "id": "9b2ccf8e",
   "metadata": {},
   "outputs": [],
   "source": [
    "# best hyperparameters can be determined from training\n",
    "best_params = ([200, 250], 0.01, 4, 'relu')\n",
    "hidden_sizes, learning_rate, latent_dim, activation_function = best_params"
   ]
  },
  {
   "cell_type": "code",
   "execution_count": null,
   "id": "cbb7d70d",
   "metadata": {},
   "outputs": [],
   "source": [
    "vae = VAE(input_dim=199, hidden_sizes=hidden_sizes, latent_dim=latent_dim, activation_function=activation_function)\n",
    "vae.load_state_dict(torch.load('best_vae.pth'))\n",
    "vae.eval()"
   ]
  },
  {
   "cell_type": "code",
   "execution_count": null,
   "id": "86bb40b6",
   "metadata": {},
   "outputs": [],
   "source": [
    "# randomly generate 1000 airfoils\n",
    "airfoils_recon = []\n",
    "for j in range(1000):\n",
    "    sample_mu = np.random.normal(loc=0, scale=1.2, size=(len(data), latent_dim))\n",
    "    sample_mu = torch.tensor(sample_mu, dtype=torch.float32)\n",
    "    recon = vae.decoder(sample_mu)\n",
    "    if len(airfoils_recon) == 0:\n",
    "        airfoils_recon = recon.detach().numpy()\n",
    "    else:\n",
    "        airfoils_recon = np.vstack((airfoils_recon, recon.detach().numpy()))\n",
    "airfoils_recon = airfoils_recon * (data_max - data_min) + data_min"
   ]
  },
  {
   "cell_type": "code",
   "execution_count": null,
   "id": "c089c8ce",
   "metadata": {},
   "outputs": [],
   "source": [
    "# compute the relative diversity and relative roughness\n",
    "VAE_diversity = np.mean(np.var(airfoils_recon, axis=0))\n",
    "airfoil_filter = np.apply_along_axis(lambda x: savgol_filter(x, 15, 3), axis=1, arr=airfoils_recon)\n",
    "VAE_roughness = np.mean(np.mean((airfoils_recon - airfoil_filter) ** 2, axis=1))\n",
    "print(VAE_diversity/0.00038256164690759424)\n",
    "print(VAE_roughness/2.9165800679528876e-09)"
   ]
  }
 ],
 "metadata": {
  "jupytext": {
   "cell_metadata_filter": "-all",
   "main_language": "python",
   "notebook_metadata_filter": "-all"
  }
 },
 "nbformat": 4,
 "nbformat_minor": 5
}
