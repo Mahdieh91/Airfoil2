def random_search(train_data, input_dim, device, n_iter=20, epochs=1):
    best_params = None
    best_loss = float('inf')

    for i in range(n_iter):
        hidden_layers = np.random.choice(range(2, 6))
        hidden_sizes = [np.random.choice([50, 100, 150, 200, 250]) for _ in range(hidden_layers)]
        learning_rate = np.random.choice([1e-5, 1e-4, 1e-3, 1e-2])
        activation_function = np.random.choice(['relu'])

        model = DiffusionModel(input_dim=input_dim, hidden_sizes=hidden_sizes, 
                                latent_dim=None, activation_function=activation_function).to(device)
        optimizer = optim.Adam(model.parameters(), lr=learning_rate)

        # Model training
        model.train()
        for epoch in range(epochs):
            timesteps = min(np.random.randint(1, 100), input_dim)  # Ensure timesteps fits input
            noisy_data = diffusion_process(train_data, timesteps)

            recon = model(noisy_data, timesteps)
            loss = loss_function(recon, train_data)

            optimizer.zero_grad()
            loss.backward()
            optimizer.step()

        # Model evaluation code remains unchanged...

    return best_params, best_loss
