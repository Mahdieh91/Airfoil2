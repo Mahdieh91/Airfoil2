{
  "cells": [
    {
      "cell_type": "code",
      "source": [
        "import os",
        "import numpy as np",
        "import torch",
        "import torch.nn as nn",
        "import torch.nn.functional as F",
        "import torch.optim as optim",
        "from scipy.signal import savgol_filter",
        "from sklearn.model_selection import train_test_split"
      ]
    },
    {
      "cell_type": "code",
      "source": [
        "class VAE(nn.Module):",
        "    def __init__(self, input_dim, hidden_sizes, latent_dim, activation_function):",
        "        # VAE model architecture definition"
      ]
    },
    {
      "cell_type": "code",
      "source": [
        "def loss_function(recon_x, x, mu, logvar):",
        "    # Loss function calculation for VAE model"
      ]
    },
    {
      "cell_type": "code",
      "source": [
        "def compute_relative_metrics(recon_x, data_min, data_max, noise):",
        "    # Compute relative metrics for evaluation"
      ]
    },
    {
      "cell_type": "code",
      "source": [
        "def random_search(train_data, input_dim, device, n_iter=20, epochs=1000, data_min=1e5, data_max=1e5, noise=1e5):",
        "    # Perform random search for hyperparameters"
      ]
    },
    {
      "cell_type": "code",
      "source": [
        "def main_train():",
        "    # Main training function for VAE model"
      ]
    },
    {
      "cell_type": "code",
      "source": [
        "if __name__ == \"__main__\":",
        "    os.environ[\"CUDA_VISIBLE_DEVICES\"] = \"0\"",
        "    device = torch.device(\"cuda\" if torch.cuda.is_available() else \"cpu\")",
        "    main_train()"
      ]
    }
  ],
  "data": {
    "hidden_sizes": [150, 100, 50],
    "learning_rates": [1e-5, 1e-4, 1e-3, 1e-2],
    "latent_dims": [2, 4, 8, 16, 32],
    "activation_functions": ["relu"],
    "airfoils_data_file": "airfoils.dat",
    "cosine_noise_factor": 0.00038256164690759424,
    "roughness_factor": 2.9165800679528876e-09
  }
}
