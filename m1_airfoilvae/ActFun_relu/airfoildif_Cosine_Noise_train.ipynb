{
  "VAE_configuration": {
    "model_architecture": {
      "input_dim": 199,
      "hidden_layers": {
        "min": 2,
        "max": 5,
        "possible_sizes": [50, 100, 150, 200, 250]
      },
      "latent_dim_options": [2, 4, 8, 16, 32],
      "activation_functions": ["relu", "tanh", "leaky_relu", "sigmoid"],
      "default_activation": "relu"
    },
    "training_parameters": {
      "optimizer": "Adam",
      "learning_rate_options": [0.00001, 0.0001, 0.001, 0.01],
      "loss_function": {
        "reconstruction_loss": "MSE",
        "regularization": "KLD",
        "weighting": {
          "MSE_weight": 2,
          "KLD_weight": 1
        }
      }
    },
    "noise_generation": {
      "type": "cosine",
      "parameters": {
        "amplitude": 0.00001,
        "frequency_range": [0.8, 1.2],
        "base_frequency": 10
      }
    },
    "data_processing": {
      "normalization": "min-max",
      "noise_handling": "subtractive",
      "metrics": {
        "relative_diversity": {
          "reference_value": 0.00038256164690759424
        },
        "relative_roughness": {
          "reference_value": 2.9165800679528876e-09,
          "smoothing": {
            "window_size": 15,
            "polynomial_order": 3
          }
        }
      }
    },
    "training_protocol": {
      "random_search": {
        "iterations": 20,
        "epochs_per_config": 1000
      },
      "early_stopping": false,
      "checkpointing": {
        "model_save_path": "best_vae.pth",
        "loss_save_path": "VAE_train_loss.dat",
        "params_save_path": "save_params.txt"
      }
    },
    "hardware": {
      "device_preference": "cuda",
      "fallback_device": "cpu"
    },
    "example_configuration": {
      "hidden_sizes": [200, 150, 100],
      "learning_rate": 0.001,
      "latent_dim": 8,
      "activation_function": "relu"
    }
  }
}
