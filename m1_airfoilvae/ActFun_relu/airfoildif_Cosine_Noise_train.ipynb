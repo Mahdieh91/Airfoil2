{
  "cells": [
    {
      "cell_type": "markdown",
      "metadata": {},
      "source": [
        "# Variational Autoencoder (VAE) with Cosine Noise\n",
        "\n",
        "This notebook implements a VAE for airfoil data with cosine-based noise generation."
      ]
    },
    {
      "cell_type": "markdown",
      "metadata": {},
      "source": [
        "## 1. Imports and Setup"
      ]
    },
    {
      "cell_type": "code",
      "execution_count": null,
      "metadata": {},
      "outputs": [],
      "source": [
        "import os\n",
        "import numpy as np\n",
        "import torch\n",
        "import torch.nn as nn\n",
        "import torch.nn.functional as F\n",
        "import torch.optim as optim\n",
        "from scipy.signal import savgol_filter\n",
        "import matplotlib.pyplot as plt\n",
        "\n",
        "# Set device\n",
        "device = torch.device(\"cuda\" if torch.cuda.is_available() else \"cpu\")\n",
        "print(f\"Using device: {device}\")"
      ]
    },
    {
      "cell_type": "markdown",
      "metadata": {},
      "source": [
        "## 2. VAE Model Definition"
      ]
    },
    {
      "cell_type": "code",
      "execution_count": null,
      "metadata": {},
      "outputs": [],
      "source": [
        "class VAE(nn.Module):\n",
        "    def __init__(self, input_dim, hidden_sizes, latent_dim, activation_function):\n",
        "        super(VAE, self).__init__()\n",
        "        self.activation_function = activation_function\n",
        "\n",
        "        # Encoder layers\n",
        "        self.encoders = nn.ModuleList()\n",
        "        in_dim = input_dim\n",
        "        for h_dim in hidden_sizes:\n",
        "            self.encoders.append(nn.Linear(in_dim, h_dim))\n",
        "            in_dim = h_dim\n",
        "\n",
        "        self.fc_mu = nn.Linear(hidden_sizes[-1], latent_dim)\n",
        "        self.fc_logvar = nn.Linear(hidden_sizes[-1], latent_dim)\n",
        "\n",
        "        # Decoder layers\n",
        "        self.decoders = nn.ModuleList()\n",
        "        in_dim = latent_dim\n",
        "        for h_dim in reversed(hidden_sizes):\n",
        "            self.decoders.append(nn.Linear(in_dim, h_dim))\n",
        "            in_dim = h_dim\n",
        "\n",
        "        self.fc_out = nn.Linear(hidden_sizes[0], input_dim)\n",
        "\n",
        "    def encoder(self, x):\n",
        "        for layer in self.encoders:\n",
        "            x = layer(x)\n",
        "            x = self.get_activation(x)\n",
        "        mu = self.fc_mu(x)\n",
        "        logvar = self.fc_logvar(x)\n",
        "        return mu, logvar\n",
        "\n",
        "    def reparameterize(self, mu, logvar):\n",
        "        std = torch.exp(0.5 * logvar)\n",
        "        eps = torch.randn_like(std)\n",
        "        return mu + eps * std\n",
        "\n",
        "    def decoder(self, z):\n",
        "        for layer in self.decoders:\n",
        "            z = layer(z)\n",
        "            z = self.get_activation(z)\n",
        "        return self.fc_out(z)\n",
        "\n",
        "    def forward(self, x):\n",
        "        mu, logvar = self.encoder(x)\n",
        "        z = self.reparameterize(mu, logvar)\n",
        "        return self.decoder(z), mu, logvar\n",
        "\n",
        "    def get_activation(self, x):\n",
        "        if self.activation_function == 'relu':\n",
        "            return F.relu(x)\n",
        "        elif self.activation_function == 'tanh':\n",
        "            return torch.tanh(x)\n",
        "        elif self.activation_function == 'leaky_relu':\n",
        "            return F.leaky_relu(x)\n",
        "        elif self.activation_function == 'sigmoid':\n",
        "            return torch.sigmoid(x)\n",
        "        else:\n",
        "            raise ValueError(\"Invalid activation function\")"
      ]
    },
    {
      "cell_type": "code",
      "execution_count": null,
      "metadata": {},
      "outputs": [],
      "source": [
        "def loss_function(recon_x, x, mu, logvar):\n",
        "    MSE = F.mse_loss(recon_x, x, reduction='sum')\n",
        "    KLD = -0.5 * torch.sum(1 + logvar - mu.pow(2) - logvar.exp())\n",
        "    return 2*MSE + KLD, MSE, KLD"
      ]
    },
    {
      "cell_type": "markdown",
      "metadata": {},
      "source": [
        "## 3. Cosine Noise Generation and Metrics"
      ]
    },
    {
      "cell_type": "code",
      "execution_count": null,
      "metadata": {},
      "outputs": [],
      "source": [
        "def generate_cosine_noise(num_samples, length, amplitude=1e-5, frequency=10):\n",
        "    \"\"\"Generate cosine-based noise pattern\"\"\"\n",
        "    x = np.linspace(0, 2*np.pi, length)\n",
        "    noise = np.zeros((num_samples, length))\n",
        "    for i in range(num_samples):\n",
        "        phase_shift = np.random.uniform(0, 2*np.pi)\n",
        "        freq_variation = np.random.uniform(0.8, 1.2) * frequency\n",
        "        noise[i] = amplitude * np.cos(freq_variation * x + phase_shift)\n",
        "    return noise"
      ]
    },
    {
      "cell_type": "code",
      "execution_count": null,
      "metadata": {},
      "outputs": [],
      "source": [
        "def compute_relative_metrics(recon_x, data_min, data_max, noise):\n",
        "    recon_np = recon_x.cpu().detach().numpy()\n",
        "\n",
        "    airfoils_recon = recon_np * (data_max - data_min) + data_min\n",
        "    airfoils_recon = airfoils_recon - noise\n",
        "\n",
        "    relative_diversity = np.mean(np.var(airfoils_recon, axis=0)) / 0.00038256164690759424\n",
        "\n",
        "    airfoils_recon_filter = np.apply_along_axis(lambda x: savgol_filter(x, 15, 3), axis=1, arr=airfoils_recon)\n",
        "    relative_roughness = np.mean(np.mean((airfoils_recon - airfoils_recon_filter) ** 2, axis=1) / 2.9165800679528876e-09)\n",
        "\n",
        "    relative_roughness = torch.tensor(relative_roughness, dtype=torch.float32, device=recon_x.device)\n",
        "    relative_diversity = torch.tensor(relative_diversity, dtype=torch.float32, device=recon_x.device)\n",
        "\n",
        "    return relative_diversity, relative_roughness"
      ]
    },
    {
      "cell_type": "markdown",
      "metadata": {},
      "source": [
        "## 4. Training with Random Search"
      ]
    },
    {
      "cell_type": "code",
      "execution_count": null,
      "metadata": {},
      "outputs": [],
      "source": [
        "def random_search(train_data, input_dim, device, n_iter=20, epochs=1000, data_min=None, data_max=None, noise=None):\n",
        "    best_params = None\n",
        "    best_loss = float('inf')\n",
        "\n",
        "    for i in range(n_iter):\n",
        "        # Hyperparameters search space\n",
        "        hidden_layers = np.random.choice(range(2, 6))\n",
        "        hidden_sizes = [np.random.choice([50, 100, 150, 200, 250]) for _ in range(hidden_layers)]\n",
        "        learning_rate = np.random.choice([1e-5, 1e-4, 1e-3, 1e-2])\n",
        "        latent_dim = np.random.choice([2, 4, 8, 16, 32])\n",
        "        activation_function = np.random.choice(['relu'])  # Simplified for demo\n",
        "        \n",
        "        # Initialize VAE\n",
        "        vae = VAE(input_dim=input_dim, hidden_sizes=hidden_sizes, \n",
        "                 latent_dim=latent_dim, activation_function=activation_function).to(device)\n",
        "        optimizer = optim.Adam(vae.parameters(), lr=learning_rate)\n",
        "        \n",
        "        # Training loop\n",
        "        vae.train()\n",
        "        train_losses = []\n",
        "        for epoch in range(epochs):\n",
        "            recon, mu, logvar = vae(train_data)\n",
        "            loss, mse_loss, kld_loss = loss_function(recon, train_data, mu, logvar)\n",
        "            \n",
        "            optimizer.zero_grad()\n",
        "            loss.backward()\n",
        "            optimizer.step()\n",
        "            \n",
        "            train_losses.append(loss.item())\n",
        "            \n",
        "            if (epoch + 1) % 1000 == 0:\n",
        "                print(f'Epoch [{epoch+1}/{epochs}], Loss: {loss.item():.4f}')\n",
        "\n",
        "        # Evaluation\n",
        "        vae.eval()\n",
        "        with torch.no_grad():\n",
        "            recon, mu, logvar = vae(train_data)\n",
        "            relative_diversity, relative_roughness = compute_relative_metrics(recon, data_min, data_max, noise)\n",
        "            relative_loss = torch.sum((relative_roughness - 1)**2 + (relative_diversity - 1)**2)\n",
        "\n",
        "        # Save best model\n",
        "        if relative_loss < best_loss:\n",
        "            best_loss = relative_loss\n",
        "            best_params = (hidden_sizes, learning_rate, latent_dim, activation_function)\n",
        "            \n",
        "            torch.save(vae.state_dict(), 'best_vae.pth')\n",
        "            np.savetxt('VAE_train_loss.dat', train_losses, delimiter='\\t')\n",
        "            \n",
        "            save_params = [\n",
        "                str(hidden_sizes), str(learning_rate), \n",
        "                str(latent_dim), str(activation_function),\n",
        "                f'best_loss:{best_loss.cpu().item():.4f}'\n",
        "            ]\n",
        "            with open('save_params.txt', 'w') as f:\n",
        "                f.write('\\t'.join(save_params) + '\\n')\n",
        "\n",
        "        print(f'Iteration [{i+1}/{n_iter}], Best Loss: {best_loss:.4f}, Current: {relative_loss:.4f}')\n",
        "\n",
        "    return best_params, best_loss"
      ]
    },
    {
      "cell_type": "markdown",
      "metadata": {},
      "source": [
        "## 5. Main Training Function"
      ]
    },
    {
      "cell_type": "code",
      "execution_count": null,
      "metadata": {},
      "outputs": [],
      "source": [
        "def main_train():\n",
        "    # Load and prepare data\n",
        "    data = np.loadtxt('airfoils.dat')\n",
        "    data = data[:, 1:]  # Remove first column if needed\n",
        "    \n",
        "    # Generate cosine noise\n",
        "    noise = generate_cosine_noise(data.shape[0], data.shape[1], amplitude=1e-5)\n",
        "    data = data + noise\n",
        "    \n",
        "    # Normalize data\n",
        "    data_min = np.min(data, axis=0)\n",
        "    data_max = np.max(data, axis=0)\n",
        "    data_norm = (data - data_min) / (data_max - data_min)\n",
        "    data_tensor = torch.tensor(data_norm, dtype=torch.float32).to(device)\n",
        "    \n",
        "    # Run random search\n",
        "    best_params, best_loss = random_search(\n",
        "        data_tensor, \n",
        "        input_dim=data.shape[1], \n",
        "        device=device,\n",
        "        n_iter=20,  # Reduced for demo\n",
        "        epochs=5000,  # Reduced for demo\n",
        "        data_min=data_min,\n",
        "        data_max=data_max,\n",
        "        noise=noise\n",
        "    )\n",
        "    \n",
        "    print(\"\\nTraining completed!\")\n",
        "    print(f\"Best parameters: {best_params}\")\n",
        "    print(f\"Best loss: {best_loss:.4f}\")"
      ]
    },
    {
      "cell_type": "markdown",
      "metadata": {},
      "source": [
        "## 6. Execute Training"
      ]
    },
    {
      "cell_type": "code",
      "execution_count": null,
      "metadata": {},
      "outputs": [],
      "source": [
        "if __name__ == \"__main__\":\n",
        "    main_train()"
      ]
    }
  ],
  "metadata": {
    "kernelspec": {
      "display_name": "Python 3",
      "language": "python",
      "name": "python3"
    },
    "language_info": {
      "codemirror_mode": {
        "name": "ipython",
        "version": 3
      },
      "file_extension": ".py",
      "mimetype": "text/x-python",
      "name": "python",
      "nbconvert_exporter": "python",
      "pygments_lexer": "ipython3",
      "version": "3.8.5"
    }
  },
  "nbformat": 4,
  "nbformat_minor": 4
}
