{
 "cells": [
  {
   "cell_type": "markdown",
   "metadata": {
    "id": "view-in-github"
   },
   "source": [
    "# Airfoil VAE: Training and Generation\n",
    "\n",
    "This notebook handles the complete pipeline for:\n",
    "1. Training a Variational Autoencoder (VAE) on airfoil data with cosine noise\n",
    "2. Generating new airfoil designs from the trained model\n",
    "3. Evaluating the generated airfoils"
   ]
  },
  {
   "cell_type": "markdown",
   "metadata": {
    "id": "0QKt5zRq2bQH"
   },
   "source": [
    "## 1. Setup and Imports"
   ]
  },
  {
   "cell_type": "code",
   "execution_count": null,
   "metadata": {
    "colab": {
     "base_uri": "https://localhost:8080/"
    },
    "id": "1JzJcVgX2bQI",
    "outputId": "8b5e1a3e-3b5c-4d5e-b4c8-3a9b5f0c5b4e"
   },
   "outputs": [],
   "source": [
    "%%capture\n",
    "!pip install torch numpy matplotlib scipy\n",
    "\n",
    "import os\n",
    "import numpy as np\n",
    "import torch\n",
    "import torch.nn as nn\n",
    "import torch.nn.functional as F\n",
    "import torch.optim as optim\n",
    "from scipy.signal import savgol_filter\n",
    "import matplotlib.pyplot as plt\n",
    "import pandas as pd\n",
    "import seaborn as sns\n",
    "from google.colab import files, output\n",
    "\n",
    "# Enable inline plotting\n",
    "%matplotlib inline\n",
    "\n",
    "# Verify GPU availability\n",
    "device = torch.device(\"cuda\" if torch.cuda.is_available() else \"cpu\")\n",
    "print(f\"Using device: {device}\")\n",
    "\n",
    "# Setup directory (for Colab)\n",
    "if 'COLAB_GPU' in os.environ:\n",
    "    from google.colab import drive\n",
    "    drive.mount('/content/drive')\n",
    "    os.chdir('/content/drive/MyDrive/Colab Notebooks')  # Update with your path\n",
    "    print(\"Current directory:\", os.getcwd())\n",
    "    !ls\n",
    "    \n",
    "# Clear any existing output\n",
    "output.clear()"
   ]
  },
  {
   "cell_type": "markdown",
   "metadata": {
    "id": "hQ5gQJ4s2bQK"
   },
   "source": [
    "## 2. Generate Sample Airfoil Data\n",
    "\n",
    "Since we don't have the original data file, we'll create some sample airfoil data."
   ]
  },
  {
   "cell_type": "code",
   "execution_count": null,
   "metadata": {
    "id": "0JY2Q9xS2bQK"
   },
   "outputs": [],
   "source": [
    "def generate_airfoil_data(num_samples=1500, num_points=100):\n",
    "    \"\"\"Generate synthetic airfoil data\"\"\"\n",
    "    x = np.linspace(0, 1, num_points)\n",
    "    data = []\n",
    "    \n",
    "    for i in range(num_samples):\n",
    "        # Basic NACA airfoil shape with some variation\n",
    "        thickness = np.random.uniform(0.08, 0.15)\n",
    "        camber = np.random.uniform(0, 0.05)\n",
    "        camber_pos = np.random.uniform(0.2, 0.6)\n",
    "        \n",
    "        yt = 5*thickness*(0.2969*np.sqrt(x) - 0.1260*x - 0.3516*x**2 + 0.2843*x**3 - 0.1015*x**4)\n",
    "        \n",
    "        if camber > 0.001:\n",
    "            yc = np.where(x < camber_pos, \n",
    "                         (camber/x**2) * (2*camber_pos*x - x**2),\n",
    "                         (camber/(1-camber_pos)**2) * (1 - 2*camber_pos + 2*camber_pos*x - x**2))\n",
    "            theta = np.where(x < camber_pos, \n",
    "                           np.arctan((2*camber/x**2) * (camber_pos - x)),\n",
    "                           np.arctan((2*camber/(1-camber_pos)**2) * (camber_pos - x)))\n",
    "            \n",
    "            xu = x - yt*np.sin(theta)\n",
    "            yu = yc + yt*np.cos(theta)\n",
    "            xl = x + yt*np.sin(theta)\n",
    "            yl = yc - yt*np.cos(theta)\n",
    "            \n",
    "            # Combine upper and lower surfaces\n",
    "            y = np.concatenate([yu[::-1], yl[1:]])\n",
    "            x_points = np.concatenate([xu[::-1], xl[1:]])\n",
    "        else:\n",
    "            y = np.concatenate([yt[::-1], -yt[1:]])\n",
    "            x_points = np.concatenate([x[::-1], x[1:]])\n",
    "        \n",
    "        # Normalize and add some noise\n",
    "        y = y + np.random.normal(0, 0.005, len(y))\n",
    "        data.append(y)\n",
    "    \n",
    "    return np.array(data)\n",
    "\n",
    "# Generate cosine noise function\n",
    "def generate_cosine_noise(num_samples, length, amplitude=1e-5, frequency=10):\n",
    "    \"\"\"Generate structured cosine noise for airfoil data\"\"\"\n",
    "    x = np.linspace(0, 2*np.pi, length)\n",
    "    noise = np.zeros((num_samples, length))\n",
    "    for i in range(num_samples):\n",
    "        phase_shift = np.random.uniform(0, 2*np.pi)\n",
    "        freq_variation = np.random.uniform(0.8, 1.2) * frequency\n",
    "        noise[i] = amplitude * np.cos(freq_variation * x + phase_shift)\n",
    "    return noise"
   ]
  },
  {
   "cell_type": "markdown",
   "metadata": {
    "id": "7V5qQ5LZ2bQL"
   },
   "source": [
    "## 3. Data Loading and Preparation"
   ]
  },
  {
   "cell_type": "code",
   "execution_count": null,
   "metadata": {
    "colab": {
     "base_uri": "https://localhost:8080/",
     "height": 489
    },
    "id": "7Tj3fJ2v2bQL",
    "outputId": "a3c8c9b5-1d0f-4c4e-9c7d-7c7a7b4f1b3e"
   },
   "outputs": [],
   "source": [
    "# Generate synthetic airfoil data\n",
    "data = generate_airfoil_data(num_samples=1500, num_points=100)\n",
    "\n",
    "# Generate and add noise\n",
    "noise = generate_cosine_noise(data.shape[0], data.shape[1], amplitude=1e-5)\n",
    "data_with_noise = data + noise\n",
    "\n",
    "# Normalize data\n",
    "data_min = np.min(data_with_noise, axis=0)\n",
    "data_max = np.max(data_with_noise, axis=0)\n",
    "data_norm = (data_with_noise - data_min) / (data_max - data_min)\n",
    "data_tensor = torch.tensor(data_norm, dtype=torch.float32).to(device)\n",
    "\n",
    "print(f\"Data loaded successfully. Shape: {data_tensor.shape}\")\n",
    "print(f\"Sample min/max: {np.min(data_norm):.4f}/{np.max(data_norm):.4f}\")\n",
    "\n",
    "# Plot sample airfoil\n",
    "plt.figure(figsize=(10, 4))\n",
    "plt.plot(data_norm[0])\n",
    "plt.title('Sample Normalized Airfoil')\n",
    "plt.xlabel('Position')\n",
    "plt.ylabel('Value')\n",
    "plt.grid(True)\n",
    "plt.show()"
   ]
  },
  {
   "cell_type": "markdown",
   "metadata": {
    "id": "H3c1sYlq2bQM"
   },
   "source": [
    "## 4. VAE Model Definition"
   ]
  },
  {
   "cell_type": "code",
   "execution_count": null,
   "metadata": {
    "id": "7P3V4g1I2bQM"
   },
   "outputs": [],
   "source": [
    "class VAE(nn.Module):\n",
    "    def __init__(self, input_dim, hidden_sizes, latent_dim, activation_function='relu'):\n",
    "        super(VAE, self).__init__()\n",
    "        self.activation_function = activation_function\n",
    "\n",
    "        # Encoder\n",
    "        self.encoders = nn.ModuleList()\n",
    "        in_dim = input_dim\n",
    "        for h_dim in hidden_sizes:\n",
    "            self.encoders.append(nn.Linear(in_dim, h_dim))\n",
    "            in_dim = h_dim\n",
    "\n",
    "        self.fc_mu = nn.Linear(hidden_sizes[-1], latent_dim)\n",
    "        self.fc_logvar = nn.Linear(hidden_sizes[-1], latent_dim)\n",
    "\n",
    "        # Decoder\n",
    "        self.decoders = nn.ModuleList()\n",
    "        in_dim = latent_dim\n",
    "        for h_dim in reversed(hidden_sizes):\n",
    "            self.decoders.append(nn.Linear(in_dim, h_dim))\n",
    "            in_dim = h_dim\n",
    "\n",
    "        self.fc_out = nn.Linear(hidden_sizes[0], input_dim)\n",
    "\n",
    "    def forward(self, x):\n",
    "        mu, logvar = self.encoder(x)\n",
    "        z = self.reparameterize(mu, logvar)\n",
    "        return self.decoder(z), mu, logvar\n",
    "    \n",
    "    def encoder(self, x):\n",
    "        for layer in self.encoders:\n",
    "            x = layer(x)\n",
    "            x = self._apply_activation(x)\n",
    "        return self.fc_mu(x), self.fc_logvar(x)\n",
    "    \n",
    "    def reparameterize(self, mu, logvar):\n",
    "        std = torch.exp(0.5 * logvar)\n",
    "        eps = torch.randn_like(std)\n",
    "        return mu + eps * std\n",
    "    \n",
    "    def decoder(self, z):\n",
    "        for layer in self.decoders:\n",
    "            z = layer(z)\n",
    "            z = self._apply_activation(z)\n",
    "        return self.fc_out(z)\n",
    "    \n",
    "    def _apply_activation(self, x):\n",
    "        if self.activation_function == 'relu':\n",
    "            return F.relu(x)\n",
    "        elif self.activation_function == 'tanh':\n",
    "            return torch.tanh(x)\n",
    "        elif self.activation_function == 'leaky_relu':\n",
    "            return F.leaky_relu(x, 0.2)\n",
    "        elif self.activation_function == 'sigmoid':\n",
    "            return torch.sigmoid(x)\n",
    "        else:\n",
    "            raise ValueError(f\"Unsupported activation: {self.activation_function}\")"
   ]
  },
  {
   "cell_type": "markdown",
   "metadata": {
    "id": "w1s9H8b62bQN"
   },
   "source": [
    "## 5. Training Pipeline"
   ]
  },
  {
   "cell_type": "code",
   "execution_count": null,
   "metadata": {
    "id": "Qc1kfXe62bQN"
   },
   "outputs": [],
   "source": [
    "def train_vae(data_tensor, input_dim, device, params):\n",
    "    \"\"\"Complete training procedure\"\"\"\n",
    "    model = VAE(\n",
    "        input_dim=input_dim,\n",
    "        hidden_sizes=params['hidden_sizes'],\n",
    "        latent_dim=params['latent_dim'],\n",
    "        activation_function=params['activation']\n",
    "    ).to(device)\n",
    "    \n",
    "    optimizer = optim.Adam(model.parameters(), lr=params['lr'])\n",
    "    \n",
    "    train_losses = []\n",
    "    model.train()\n",
    "    \n",
    "    for epoch in range(params['epochs']):\n",
    "        optimizer.zero_grad()\n",
    "        recon, mu, logvar = model(data_tensor)\n",
    "        \n",
    "        # Reconstruction + KL divergence losses\n",
    "        mse_loss = F.mse_loss(recon, data_tensor, reduction='sum')\n",
    "        kld_loss = -0.5 * torch.sum(1 + logvar - mu.pow(2) - logvar.exp())\n",
    "        loss = mse_loss + kld_loss\n",
    "        \n",
    "        loss.backward()\n",
    "        optimizer.step()\n",
    "        \n",
    "        train_losses.append(loss.item())\n",
    "        \n",
    "        if (epoch + 1) % 500 == 0:\n",
    "            print(f\"Epoch {epoch+1}/{params['epochs']}, Loss: {loss.item():.4f}\")\n",
    "    \n",
    "    return model, train_losses"
   ]
  },
  {
   "cell_type": "markdown",
   "metadata": {
    "id": "8jYl7w1P2bQO"
   },
   "source": [
    "## 6. Training Execution"
   ]
  },
  {
   "cell_type": "code",
   "execution_count": null,
   "metadata": {
    "colab": {
     "base_uri": "https://localhost:8080/"
    },
    "id": "S1p0RkU22bQO",
    "outputId": "8a1c2d3c-8c2e-4b4e-f6e9-2b1d8e5c0d1c"
   },
   "outputs": [],
   "source": [
    "# Configuration\n",
    "params = {\n",
    "    'hidden_sizes': [200, 150, 100],\n",
    "    'latent_dim': 8,\n",
    "    'activation': 'relu',\n",
    "    'lr': 0.001,\n",
    "    'epochs': 2000  # Reduced for demo purposes\n",
    "}\n",
    "\n",
    "# Train the model\n",
    "print(\"Starting training...\")\n",
    "trained_model, losses = train_vae(\n",
    "    data_tensor=data_tensor,\n",
    "    input_dim=data_tensor.shape[1],\n",
    "    device=device,\n",
    "    params=params\n",
    ")\n",
    "\n",
    "# Save the trained model\n",
    "torch.save(trained_model.state_dict(), 'best_vae.pth')\n",
    "print(\"Training completed and model saved!\")"
   ]
  },
  {
   "cell_type": "markdown",
   "metadata": {
    "id": "hQ4N6m1w2bQP"
   },
   "source": [
    "## 7. Training Visualization"
   ]
  },
  {
   "cell_type": "code",
   "execution_count": null,
   "metadata": {
    "colab": {
     "base_uri": "https://localhost:8080/",
     "height": 472
    },
    "id": "l5Q1nNqY2bQP",
    "outputId": "c8e8b6a0-8a0a-4c5c-bd9e-0a1a2f5c7c4f"
   },
   "outputs": [],
   "source": [
    "# Plot training loss\n",
    "plt.figure(figsize=(10, 5))\n",
    "plt.plot(losses)\n",
    "plt.title('Training Loss')\n",
    "plt.xlabel('Epoch')\n",
    "plt.ylabel('Loss')\n",
    "plt.grid(True)\n",
    "plt.show()"
   ]
  },
  {
   "cell_type": "markdown",
   "metadata": {
    "id": "qH8w5V5X2bQQ"
   },
   "source": [
    "## 8. Airfoil Generation"
   ]
  },
  {
   "cell_type": "code",
   "execution_count": null,
   "metadata": {
    "colab": {
     "base_uri": "https://localhost:8080/",
     "height": 507
    },
    "id": "5z7ZcXx92bQQ",
    "outputId": "c2b5a1e1-0f9a-4c1c-e7b1-0c6d8e8f1f4d"
   },
   "outputs": [],
   "source": [
    "# Generate new airfoils\n",
    "def generate_airfoils(model, num_samples=5, latent_dim=8):\n",
    "    model.eval()\n",
    "    with torch.no_grad():\n",
    "        # Sample from latent space\n",
    "        z = torch.randn(num_samples, latent_dim).to(device)\n",
    "        generated = model.decoder(z).cpu().numpy()\n",
    "    return generated\n",
    "\n",
    "# Generate and plot\n",
    "generated_airfoils = generate_airfoils(trained_model, num_samples=5)\n",
    "\n",
    "plt.figure(figsize=(12, 6))\n",
    "for i, airfoil in enumerate(generated_airfoils):\n",
    "    plt.plot(airfoil, label=f'Generated {i+1}')\n",
    "plt.title('Generated Airfoils')\n",
    "plt.xlabel('Position')\n",
    "plt.ylabel('Value')\n",
    "plt.legend()\n",
    "plt.grid(True)\n",
    "plt.show()"
   ]
  },
  {
   "cell_type": "markdown",
   "metadata": {
    "id": "w3Fg1a5a2bQR"
   },
   "source": [
    "## 9. Save Generated Airfoils"
   ]
  },
  {
   "cell_type": "code",
   "execution_count": null,
   "metadata": {
    "colab": {
     "base_uri": "https://localhost:8080/"
    },
    "id": "9J8hJx1F2bQR",
    "outputId": "b8c9b1d6-4b3b-4c3b-8d4f-7a1c7a9b2c0e"
   },
   "outputs": [],
   "source": [
    "# Save generated airfoils to CSV\n",
    "np.savetxt('generated_airfoils.csv', generated_airfoils, delimiter=',')\n",
    "\n",
    "# Download the files\n",
    "files.download('best_vae.pth')\n",
    "files.download('generated_airfoils.csv')\n",
    "\n",
    "print(\"Files saved and downloaded!\")"
   ]
  }
 ],
 "metadata": {
  "colab": {
   "provenance": []
  },
  "kernelspec": {
   "display_name": "Python 3",
   "name": "python3"
  },
  "language_info": {
   "name": "python"
  }
 },
 "nbformat": 4,
 "nbformat_minor": 0
}
