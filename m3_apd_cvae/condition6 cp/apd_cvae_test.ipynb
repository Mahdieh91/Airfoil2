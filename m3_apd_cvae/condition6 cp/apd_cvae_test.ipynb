{
 "cells": [
  {
   "cell_type": "code",
   "execution_count": null,
   "id": "86571449",
   "metadata": {},
   "outputs": [],
   "source": [
    "# 翼型形状隐变量作为条件，预测翼型形状的CVAE\n",
    "import os\n",
    "import random\n",
    "import numpy as np\n",
    "import torch\n",
    "import torch.nn as nn\n",
    "import torch.nn.functional as F\n",
    "import torch.optim as optim\n",
    "from matplotlib import pyplot as plt\n",
    "from sklearn.model_selection import train_test_split\n",
    "import matplotlib.ticker as ticker\n",
    "from torch.nn import init\n",
    "from torch.utils.data import DataLoader\n",
    "from cpAE20 import Autoencoder\n",
    "from apd_cvae_train import CVAE\n",
    "import time"
   ]
  },
  {
   "cell_type": "code",
   "execution_count": null,
   "id": "c8ff8476",
   "metadata": {},
   "outputs": [],
   "source": [
    "apd_cvae = torch.load('apd_cvae.pkl', map_location=torch.device('cpu'))\n",
    "criterion = nn.MSELoss()  # 均方误差损失\n",
    "autoencoder = torch.load('autoencoder20.pkl', map_location=torch.device('cpu'))"
   ]
  },
  {
   "cell_type": "code",
   "execution_count": null,
   "id": "e01a5e3a",
   "metadata": {},
   "outputs": [],
   "source": [
    "# 加载数据\n",
    "data = np.loadtxt('airfoils_recon_data.dat')\n",
    "airfoil = data[:, :199]\n",
    "airfoil_tensor = torch.tensor(airfoil, dtype=torch.float32)\n",
    "cp_latent = np.loadtxt('cpAE_latent20.dat')\n",
    "cp_latent_tensor = torch.tensor(cp_latent, dtype=torch.float32)\n",
    "airfoil_nom_latent_tensor = torch.cat((airfoil_tensor, cp_latent_tensor), 1)"
   ]
  },
  {
   "cell_type": "code",
   "execution_count": null,
   "id": "2e0d1593",
   "metadata": {},
   "outputs": [],
   "source": [
    "train_data, test_data = train_test_split(airfoil_nom_latent_tensor, test_size=0.01, random_state=42)"
   ]
  },
  {
   "cell_type": "markdown",
   "id": "589419f9",
   "metadata": {},
   "source": [
    "# 0 plot loss\n",
    "train_loss20 = np.loadtxt('apd_cvae_train_loss.dat')\n",
    "test_loss20 = np.loadtxt('apd_cvae_test_loss.dat')\n",
    "plt.figure(figsize=(4, 3.5), dpi=300)\n",
    "plt.rcParams[\"font.family\"] = \"Times New Roman\"\n",
    "plt.xlabel('Epochs')\n",
    "plt.ylabel('MSE')\n",
    "plt.semilogy(np.arange(1000), test_loss20, linewidth=1, color='red', label='Train')\n",
    "plt.semilogy(np.arange(1000), train_loss20, linewidth=1, color='blue', label='Test')\n",
    "plt.ylim(0.000000001, 0.0001)\n",
    "plt.tight_layout()\n",
    "plt.legend(frameon=False)\n",
    "output_path = r'E:\\D_PHD\\D6_Project\\pre_cp\\VAEAirfoil_EAAI\\fig\\apd_cvae_pressure_loss.png'\n",
    "plt.savefig(output_path, dpi=300)\n",
    "plt.show()"
   ]
  },
  {
   "cell_type": "markdown",
   "id": "976689d8",
   "metadata": {},
   "source": [
    "# cvae train set\n",
    "start_time = time.time()\n",
    "recon, mu, logvar = apd_cvae(train_data[:, :199], train_data[:, 199:])\n",
    "train_MSE = criterion(recon[:, :199], train_data[:, :199])\n",
    "print(f'train loss = {train_MSE}')\n",
    "end_time = time.time()\n",
    "elapsed_time = end_time - start_time\n",
    "print('elapsed_time', elapsed_time)\n",
    "\n",
    "# cvae test set\n",
    "recon, mu, logvar = apd_cvae(test_data[:, :199], test_data[:, 199:])\n",
    "test_MSE = criterion(recon[:, :199], test_data[:, :199])\n",
    "print(f'test loss = {test_MSE}')\n",
    "mse = np.mean((recon[:, :199].detach().numpy() - test_data[:, :199].detach().numpy()) ** 2, axis=1)\n",
    "mse = mse*1e8\n",
    "# statistic\n",
    "plt.figure(figsize=(4, 4), dpi=300)\n",
    "plt.rcParams[\"font.family\"] = \"Times New Roman\"\n",
    "plt.rcParams.update({'font.size': 12})\n",
    "plt.hist(mse, bins=np.linspace(0, 5, 51), color='g', alpha=0.75, edgecolor='black')\n",
    "plt.xlabel(r'MSE($\\times10^{-8}$)', fontsize=12)\n",
    "plt.ylabel('Count', fontsize=12)\n",
    "# plt.xlim(0.02, 0.3)\n",
    "# plt.ylim(0, 20000)\n",
    "ax = plt.gca()\n",
    "ax.yaxis.set_major_formatter(ticker.FuncFormatter(lambda x, pos: '{:,.0f}'.format(x)))\n",
    "plt.tight_layout()\n",
    "output_path = r'E:\\D_PHD\\D6_Project\\pre_cp\\VAEAirfoil_EAAI\\fig\\apd_cvae_cp_statistic_test1.png'\n",
    "plt.savefig(output_path, dpi=300)\n",
    "plt.show()\n",
    "\n",
    "# naca data set\n",
    "data = np.loadtxt('naca_data.dat')\n",
    "airfoil = data[:, :199]\n",
    "airfoil_tensor = torch.tensor(airfoil, dtype=torch.float32)\n",
    "cp_latent = np.loadtxt('naca_cpAE_latent20.dat')\n",
    "cp_latent_tensor = torch.tensor(cp_latent, dtype=torch.float32)\n",
    "airfoil_nom_latent_tensor = torch.cat((airfoil_tensor, cp_latent_tensor), 1)\n",
    "recon, mu, logvar = apd_cvae(airfoil_nom_latent_tensor[:, :199], airfoil_nom_latent_tensor[:, 199:])\n",
    "naca_mse = criterion(recon[:, :199], airfoil_nom_latent_tensor[:, :199])\n",
    "print(f'naca loss = {naca_mse}')\n",
    "mse = np.mean((recon[:, :199].detach().numpy() - airfoil_nom_latent_tensor[:, :199].detach().numpy()) ** 2, axis=1)\n",
    "# statistic\n",
    "plt.figure(figsize=(4, 4), dpi=300)\n",
    "plt.rcParams[\"font.family\"] = \"Times New Roman\"\n",
    "plt.rcParams.update({'font.size': 12})\n",
    "plt.hist(mse, bins=50, color='g', alpha=0.75, edgecolor='black')\n",
    "plt.xlabel('MSE', fontsize=12)\n",
    "plt.ylabel('Count', fontsize=12)\n",
    "# plt.xlim(0.02, 0.3)\n",
    "# plt.ylim(0, 20000)\n",
    "ax = plt.gca()\n",
    "ax.yaxis.set_major_formatter(ticker.FuncFormatter(lambda x, pos: '{:,.0f}'.format(x)))\n",
    "plt.tight_layout()\n",
    "output_path = r'E:\\D_PHD\\D6_Project\\pre_cp\\VAEAirfoil_EAAI\\fig\\apd_cvae_cp_statistic_naca.png'\n",
    "plt.savefig(output_path, dpi=300)\n",
    "plt.show()"
   ]
  },
  {
   "cell_type": "code",
   "execution_count": null,
   "id": "f121f6a4",
   "metadata": {
    "lines_to_next_cell": 2
   },
   "outputs": [],
   "source": [
    "# show compare test_data2\n",
    "data = np.loadtxt('airfoils2_recon_data.dat')\n",
    "airfoil = data[:, :199]\n",
    "airfoil_tensor = torch.tensor(airfoil, dtype=torch.float32)\n",
    "cp_latent = np.loadtxt('airfoils2_recon_data_latent20.dat')\n",
    "cp_latent_tensor = torch.tensor(cp_latent, dtype=torch.float32)\n",
    "airfoil_nom_latent_tensor = torch.cat((airfoil_tensor, cp_latent_tensor), 1)\n",
    "recon, mu, logvar = apd_cvae(airfoil_nom_latent_tensor[:, :199], airfoil_nom_latent_tensor[:, 199:])\n",
    "recon = recon.detach().numpy()\n",
    "np.savetxt('airfoils2_recon_recon.dat', recon, delimiter='\\t')"
   ]
  },
  {
   "cell_type": "markdown",
   "id": "3051c953",
   "metadata": {
    "lines_to_next_cell": 2
   },
   "source": [
    "loc_x = np.loadtxt('loc_x.dat')\n",
    "plt.Figure()\n",
    "plt.title('airfoilCVAE')\n",
    "for i in range(40, 41):\n",
    "    plt.scatter(loc_x, train_data[i, :199].detach().numpy(), s=2, color='blue')\n",
    "    plt.plot(loc_x, recon[i, :199].detach().numpy(), linewidth=1, color='red')\n",
    "plt.axis('equal')\n",
    "plt.show()"
   ]
  },
  {
   "cell_type": "code",
   "execution_count": null,
   "id": "bba4e596",
   "metadata": {},
   "outputs": [],
   "source": [
    "# 生成多个翼型对比图\n",
    "loc_x = np.loadtxt('loc_x.dat')\n",
    "fig, axes = plt.subplots(4, 4, figsize=(16, 16), gridspec_kw={'wspace': 0.05, 'hspace': -0.85}, dpi=300)\n",
    "# fig, axes = plt.subplots(3, 4, figsize=(16, 16))\n",
    "numbers = list(range(1, len(test_data)))\n",
    "random.seed(42)\n",
    "rand_num = random.sample(numbers, 16)\n",
    "for i in range(16):\n",
    "    # axes[i].set_xlabel('x/c', fontdict={'style': 'italic'})\n",
    "    # axes[i].set_ylabel('y', fontdict={'style': 'italic'})\n",
    "    row = i // 4\n",
    "    col = i % 4\n",
    "    axes[row, col].scatter(loc_x, test_data[rand_num[i], :199], s=4, color='red', label='Ground Truth')\n",
    "    axes[row, col].plot(loc_x, recon[rand_num[i], :].detach().numpy(), linewidth=1.5, color='blue', label='Reconstructed')\n",
    "    axes[row, col].set_ylim(-0.2, 0.2)\n",
    "    axes[row, col].set_aspect('equal')\n",
    "    axes[row, col].set_xticks([])\n",
    "    axes[row, col].set_yticks([])\n",
    "    axes[row, col].set_xticklabels([])\n",
    "    axes[row, col].set_yticklabels([])\n",
    "    # axes[row, col].invert_yaxis()\n",
    "plt.tight_layout()\n",
    "plt.legend(frameon=False)\n",
    "plt.rcParams[\"font.family\"] = \"Times New Roman\"\n",
    "plt.show()"
   ]
  },
  {
   "cell_type": "code",
   "execution_count": null,
   "id": "b8120d6e",
   "metadata": {
    "lines_to_next_cell": 2
   },
   "outputs": [],
   "source": [
    "# 随机生成隐变量，并plot误差直方图\n",
    "sample_mu = np.random.normal(loc=0, scale=1, size=(len(data), 5))\n",
    "sample_mu = torch.tensor(sample_mu, dtype=torch.float32)\n",
    "cp_latent = np.loadtxt('cpAE_latent20.dat')\n",
    "cp_latent_tensor = torch.tensor(cp_latent, dtype=torch.float32)\n",
    "# airfoil_nom_latent_tensor = torch.cat((airfoil_tensor, cp_latent_tensor), 1)\n",
    "recon = apd_cvae.decoder(sample_mu, cp_latent_tensor)\n",
    "recon_MSE = np.mean((airfoil - recon.detach().numpy()) ** 2, axis=1)\n",
    "#\n",
    "# bin_edges = np.linspace(np.min(recon_MSE*1e8), 3, num=50)\n",
    "# hist, _ = np.histogram(recon_MSE*1e8, bins=bin_edges)\n",
    "# plt.figure(figsize=(4, 3), dpi=300)\n",
    "# plt.hist(recon_MSE*1e8, bins=bin_edges, edgecolor='k', color='g')\n",
    "# plt.xlabel(r'MSE($\\times 10^{-8}$)')\n",
    "# plt.ylabel('Count')\n",
    "# plt.rcParams[\"font.family\"] = \"Times New Roman\"\n",
    "# plt.tight_layout()\n",
    "# plt.show()"
   ]
  },
  {
   "cell_type": "code",
   "execution_count": null,
   "id": "4a19920d",
   "metadata": {},
   "outputs": [],
   "source": [
    "# 生成不同epoch下多个翼型对比图\n",
    "loc_x = np.loadtxt('loc_x.dat')\n",
    "fig, axes = plt.subplots(4, 1, figsize=(4, 16), gridspec_kw={'wspace': 0.05, 'hspace': -0.85}, dpi=300)\n",
    "plt.rcParams[\"font.family\"] = \"Times New Roman\"\n",
    "# fig, axes = plt.subplots(3, 4, figsize=(16, 16))\n",
    "numbers = list(range(1, len(test_data)))\n",
    "random.seed(42)\n",
    "rand_num = random.sample(numbers, 4)\n",
    "for i in range(4):\n",
    "    # axes[i].set_xlabel('x/c', fontdict={'style': 'italic'})\n",
    "    # axes[i].set_ylabel('y', fontdict={'style': 'italic'})\n",
    "    axes[i].scatter(loc_x[::2], airfoil[rand_num[i], :199][::2], s=4, color='red', label='Ground Truth')\n",
    "    axes[i].plot(loc_x, recon[rand_num[i], :].detach().numpy(), linewidth=1.5, color='blue', label='Reconstructed')\n",
    "    axes[i].set_ylim(-0.2, 0.2)\n",
    "    axes[i].set_aspect('equal')\n",
    "    axes[i].set_xticks([])\n",
    "    axes[i].set_yticks([])\n",
    "    axes[i].set_xticklabels([])\n",
    "    axes[i].set_yticklabels([])\n",
    "plt.tight_layout()\n",
    "# axes[0].set_title('Epoch=1')\n",
    "plt.legend(frameon=False)\n",
    "plt.show()"
   ]
  },
  {
   "cell_type": "code",
   "execution_count": null,
   "id": "7832d61f",
   "metadata": {},
   "outputs": [],
   "source": []
  }
 ],
 "metadata": {
  "jupytext": {
   "cell_metadata_filter": "-all",
   "main_language": "python",
   "notebook_metadata_filter": "-all"
  }
 },
 "nbformat": 4,
 "nbformat_minor": 5
}
