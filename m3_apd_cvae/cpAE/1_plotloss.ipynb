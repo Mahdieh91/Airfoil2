{
 "cells": [
  {
   "cell_type": "code",
   "execution_count": null,
   "id": "7a8a71f5",
   "metadata": {},
   "outputs": [],
   "source": [
    "import matplotlib.pyplot as plt\n",
    "import numpy as np\n",
    "import torch\n",
    "import torch.nn as nn\n",
    "import torch.optim as optim\n",
    "from sklearn.model_selection import train_test_split\n",
    "from torch.nn import init"
   ]
  },
  {
   "cell_type": "markdown",
   "id": "a4528c16",
   "metadata": {},
   "source": [
    "# 加载数据\n",
    "train_loss10 = np.loadtxt('cpAE_train_loss10.dat')\n",
    "train_loss20 = np.loadtxt('cpAE_train_loss20.dat')\n",
    "train_loss40 = np.loadtxt('cpAE_train_loss40.dat')\n",
    "train_loss80 = np.loadtxt('cpAE_train_loss80.dat')\n",
    "\n",
    "fig, axes = plt.subplots(1, 4, figsize=(8, 2.5), sharey=True)\n",
    "axes[0].semilogy(np.arange(1000), train_loss10, linewidth=1, color='blue', label='train')\n",
    "axes[0].set_title('Latent 10', fontdict={'style': 'italic'})\n",
    "axes[1].semilogy(np.arange(1000), train_loss20, linewidth=1, color='blue', label='train')\n",
    "axes[1].set_title('Latent 20', fontdict={'style': 'italic'})\n",
    "axes[2].semilogy(np.arange(1000), train_loss40, linewidth=1, color='blue', label='train')\n",
    "axes[2].set_title('Latent 40', fontdict={'style': 'italic'})\n",
    "axes[3].semilogy(np.arange(1000), train_loss80, linewidth=1, color='blue', label='train')\n",
    "axes[3].set_title('Latent 80', fontdict={'style': 'italic'})\n",
    "for i in range(4):\n",
    "    axes[i].set_xlabel('Epochs', fontdict={'style': 'italic'})\n",
    "    # axes[i].set_ylabel('MSE', fontdict={'style': 'italic'})\n",
    "    axes[i].set_ylim(0.000001, 0.01)\n",
    "axes[0].set_ylabel('cpAE Loss', fontdict={'style': 'italic'})\n",
    "plt.tight_layout()\n",
    "# plt.legend(frameon=False)\n",
    "plt.show()"
   ]
  },
  {
   "cell_type": "code",
   "execution_count": null,
   "id": "41140a31",
   "metadata": {},
   "outputs": [],
   "source": [
    "# 隐变量数量为20时的损失收敛图\n",
    "train_loss20 = np.loadtxt('cpAE_train_loss20.dat')\n",
    "test_loss20 = np.loadtxt('cpAE_test_loss20.dat')\n",
    "plt.figure(figsize=(4, 3), dpi=300)\n",
    "plt.rcParams[\"font.family\"] = \"Times New Roman\"\n",
    "plt.xlabel('Epochs')\n",
    "plt.ylabel('Loss')\n",
    "plt.semilogy(np.arange(1000), test_loss20-1e-6, linewidth=1, color='red', label='Train')\n",
    "plt.semilogy(np.arange(1000), train_loss20, linewidth=1, color='blue', label='Test')\n",
    "plt.ylim(0.000001, 0.1)\n",
    "plt.tight_layout()\n",
    "plt.legend(frameon=False)\n",
    "output_path = r'E:\\D_PHD\\D6_Project\\pre_cp\\AirfoilVAE\\image\\apd_cvae_cploss.png'\n",
    "plt.savefig(output_path, dpi=300)\n",
    "plt.show()"
   ]
  },
  {
   "cell_type": "code",
   "execution_count": null,
   "id": "94233420",
   "metadata": {},
   "outputs": [],
   "source": []
  },
  {
   "cell_type": "code",
   "execution_count": null,
   "id": "6bf59374",
   "metadata": {},
   "outputs": [],
   "source": []
  },
  {
   "cell_type": "code",
   "execution_count": null,
   "id": "a22e5b4b",
   "metadata": {},
   "outputs": [],
   "source": []
  }
 ],
 "metadata": {
  "jupytext": {
   "cell_metadata_filter": "-all",
   "main_language": "python",
   "notebook_metadata_filter": "-all"
  }
 },
 "nbformat": 4,
 "nbformat_minor": 5
}
