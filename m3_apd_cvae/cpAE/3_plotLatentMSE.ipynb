{
 "cells": [
  {
   "cell_type": "code",
   "execution_count": null,
   "id": "04ec28bd",
   "metadata": {},
   "outputs": [],
   "source": [
    "import random\n",
    "from glob import glob\n",
    "import numpy as np\n",
    "import torch\n",
    "from matplotlib import pyplot as plt\n",
    "from sklearn.model_selection import train_test_split\n",
    "from torch import nn\n",
    "from torch.utils.data import DataLoader"
   ]
  },
  {
   "cell_type": "code",
   "execution_count": null,
   "id": "35bfe881",
   "metadata": {},
   "outputs": [],
   "source": [
    "# 各个Latent MSE\n",
    "Latent_MSE = [3.41289, 1.04498, 0.606603, 0.4414, 0.3760328, 0.439374]\n",
    "Latent = [2, 5, 10, 20, 40, 80]"
   ]
  },
  {
   "cell_type": "code",
   "execution_count": null,
   "id": "14cc440f",
   "metadata": {},
   "outputs": [],
   "source": [
    "plt.figure(figsize=(4, 3.3), dpi=300)\n",
    "plt.rcParams[\"font.family\"] = \"Times New Roman\"\n",
    "plt.xlabel('Latent Dimension')\n",
    "plt.ylabel(r'MSE($\\times10^{-5}$)')\n",
    "plt.xticks(Latent)\n",
    "plt.plot(Latent, Latent_MSE, linewidth=1.2, color='blue', marker='o', markerfacecolor='white',\n",
    "         markersize=5, label='Predition')\n",
    "plt.tight_layout()\n",
    "output_path = r'E:\\D_PHD\\D6_Project\\pre_cp\\AirfoilVAE\\image\\apd_cvae_latent.png'\n",
    "plt.savefig(output_path, dpi=300)\n",
    "plt.show()"
   ]
  }
 ],
 "metadata": {
  "jupytext": {
   "cell_metadata_filter": "-all",
   "main_language": "python",
   "notebook_metadata_filter": "-all"
  }
 },
 "nbformat": 4,
 "nbformat_minor": 5
}
