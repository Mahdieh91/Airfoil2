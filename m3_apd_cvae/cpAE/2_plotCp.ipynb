{
 "cells": [
  {
   "cell_type": "code",
   "execution_count": null,
   "id": "cf8dd125",
   "metadata": {},
   "outputs": [],
   "source": [
    "import random\n",
    "from glob import glob\n",
    "import numpy as np\n",
    "import torch\n",
    "import matplotlib.pyplot as plt\n",
    "from sklearn.model_selection import train_test_split\n",
    "from torch import nn\n",
    "from torch.utils.data import DataLoader"
   ]
  },
  {
   "cell_type": "code",
   "execution_count": null,
   "id": "a6cc85a7",
   "metadata": {},
   "outputs": [],
   "source": [
    "from cpAE20 import Autoencoder"
   ]
  },
  {
   "cell_type": "code",
   "execution_count": null,
   "id": "b68a00a4",
   "metadata": {},
   "outputs": [],
   "source": [
    "# 加载自编码器\n",
    "autoencoder = torch.load('autoencoder20.pkl', map_location=torch.device('cpu'))\n",
    "criterion = nn.MSELoss()  # 均方误差损失"
   ]
  },
  {
   "cell_type": "code",
   "execution_count": null,
   "id": "a619b68d",
   "metadata": {},
   "outputs": [],
   "source": [
    "# 加载数据\n",
    "data = np.loadtxt('airfoils_recon_data.dat')[:, 204:]\n",
    "# 压力系数归一化\n",
    "min = np.min(data, axis=0)\n",
    "max = np.max(data, axis=0)\n",
    "data_nom = (data - min) / (max - min)"
   ]
  },
  {
   "cell_type": "code",
   "execution_count": null,
   "id": "474b040e",
   "metadata": {},
   "outputs": [],
   "source": [
    "data_nom_tensor = torch.tensor(data_nom, dtype=torch.float32)"
   ]
  },
  {
   "cell_type": "code",
   "execution_count": null,
   "id": "d1e8f913",
   "metadata": {},
   "outputs": [],
   "source": [
    "_, decoded = autoencoder(data_nom_tensor)\n",
    "MSE = criterion(decoded, data_nom_tensor)\n",
    "print('MSE', MSE)"
   ]
  },
  {
   "cell_type": "code",
   "execution_count": null,
   "id": "555cbe80",
   "metadata": {},
   "outputs": [],
   "source": [
    "decoded = decoded.detach().numpy()*(max - min) + min"
   ]
  },
  {
   "cell_type": "code",
   "execution_count": null,
   "id": "dcb07718",
   "metadata": {},
   "outputs": [],
   "source": [
    "# 生成多个压力分布对比图\n",
    "loc_x = np.loadtxt('loc_x.dat')\n",
    "# fig, axes = plt.subplots(3, 4, figsize=(16, 16), gridspec_kw={'wspace': 0.05, 'hspace': -0.67})\n",
    "fig, axes = plt.subplots(3, 3, figsize=(10, 10), dpi=300)\n",
    "numbers = list(range(1, len(data_nom_tensor)))\n",
    "random.seed(43)\n",
    "rand_num = random.sample(numbers, 12)\n",
    "for i in range(9):\n",
    "    # axes[i].set_xlabel('x/c', fontdict={'style': 'italic'})\n",
    "    # axes[i].set_ylabel('y', fontdict={'style': 'italic'})\n",
    "    row = i // 3\n",
    "    col = i % 3\n",
    "    axes[row, col].scatter(loc_x[::2], data[rand_num[i], :][::2], s=4, color='red', label='Ground Truth')\n",
    "    axes[row, col].plot(loc_x, decoded[rand_num[i], :], linewidth=1.2, color='blue', label='Reconstructed')\n",
    "    # axes[row, col].set_ylim(-0.2, 0.2)\n",
    "    # axes[row, col].set_aspect('equal')\n",
    "    axes[row, col].set_xticks([])\n",
    "    axes[row, col].set_yticks([])\n",
    "    axes[row, col].set_xticklabels([])\n",
    "    axes[row, col].set_yticklabels([])\n",
    "    axes[row, col].invert_yaxis()\n",
    "handles, labels = plt.gca().get_legend_handles_labels()\n",
    "plt.tight_layout()\n",
    "plt.rcParams[\"font.family\"] = \"Times New Roman\"\n",
    "# plt.legend(handles[::-1], labels[::-1])\n",
    "plt.legend(frameon=False, prop={'family': 'Times New Roman', 'size': 12})\n",
    "output_path = r'E:\\D_PHD\\D6_Project\\pre_cp\\AirfoilVAE\\image\\apd_cvae_cp.png'\n",
    "plt.savefig(output_path, dpi=300)\n",
    "plt.show()"
   ]
  }
 ],
 "metadata": {
  "jupytext": {
   "cell_metadata_filter": "-all",
   "main_language": "python",
   "notebook_metadata_filter": "-all"
  }
 },
 "nbformat": 4,
 "nbformat_minor": 5
}
