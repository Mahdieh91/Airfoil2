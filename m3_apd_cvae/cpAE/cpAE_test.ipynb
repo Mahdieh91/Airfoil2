{
 "cells": [
  {
   "cell_type": "code",
   "execution_count": null,
   "id": "5f33f4f5",
   "metadata": {},
   "outputs": [],
   "source": [
    "import numpy as np\n",
    "import torch\n",
    "from matplotlib import pyplot as plt\n",
    "from sklearn.model_selection import train_test_split\n",
    "from torch import nn"
   ]
  },
  {
   "cell_type": "markdown",
   "id": "816654b1",
   "metadata": {
    "lines_to_next_cell": 2
   },
   "source": [
    "from cpAE2 import Autoencoder\n",
    "# 加载自编码器\n",
    "autoencoder = torch.load('autoencoder2.pkl', map_location=torch.device('cpu'))\n",
    "criterion = nn.MSELoss()  # 均方误差损失\n",
    "\n",
    "# 加载数据\n",
    "data = np.loadtxt('airfoils_recon_data.dat')[:, 204:]\n",
    "# 压力系数归一化\n",
    "min = np.min(data, axis=0)\n",
    "max = np.max(data, axis=0)\n",
    "data_nom = (data - min) / (max - min)\n",
    "data_nom_tensor = torch.tensor(data_nom, dtype=torch.float32)\n",
    "\n",
    "encoded, decoded = autoencoder(data_nom_tensor)\n",
    "autoencoder_MSE = criterion(decoded, data_nom_tensor)\n",
    "\n",
    "decoded = decoded.detach().numpy()*(max - min) + min\n",
    "loc_x = np.loadtxt('loc_x.dat')\n",
    "# 生成翼型隐变量数据\n",
    "np.savetxt('cpAE_latent2.dat', encoded.detach().numpy(), delimiter='\\t')\n",
    "\n",
    "\n",
    "from cpAE5 import Autoencoder\n",
    "# 加载自编码器\n",
    "autoencoder = torch.load('autoencoder5.pkl', map_location=torch.device('cpu'))\n",
    "criterion = nn.MSELoss()  # 均方误差损失\n",
    "\n",
    "# 加载数据\n",
    "data = np.loadtxt('airfoils_recon_data.dat')[:, 204:]\n",
    "# 压力系数归一化\n",
    "min = np.min(data, axis=0)\n",
    "max = np.max(data, axis=0)\n",
    "data_nom = (data - min) / (max - min)\n",
    "data_nom_tensor = torch.tensor(data_nom, dtype=torch.float32)\n",
    "\n",
    "encoded, decoded = autoencoder(data_nom_tensor)\n",
    "autoencoder_MSE = criterion(decoded, data_nom_tensor)\n",
    "\n",
    "decoded = decoded.detach().numpy()*(max - min) + min\n",
    "loc_x = np.loadtxt('loc_x.dat')\n",
    "# 生成翼型隐变量数据\n",
    "np.savetxt('cpAE_latent5.dat', encoded.detach().numpy(), delimiter='\\t')\n",
    "\n",
    "from cpAE10 import Autoencoder\n",
    "# 加载自编码器\n",
    "autoencoder = torch.load('autoencoder10.pkl', map_location=torch.device('cpu'))\n",
    "criterion = nn.MSELoss()  # 均方误差损失\n",
    "\n",
    "# 加载数据\n",
    "data = np.loadtxt('airfoils_recon_data.dat')[:, 204:]\n",
    "# 压力系数归一化\n",
    "min = np.min(data, axis=0)\n",
    "max = np.max(data, axis=0)\n",
    "data_nom = (data - min) / (max - min)\n",
    "data_nom_tensor = torch.tensor(data_nom, dtype=torch.float32)\n",
    "\n",
    "encoded, decoded = autoencoder(data_nom_tensor)\n",
    "autoencoder_MSE = criterion(decoded, data_nom_tensor)\n",
    "\n",
    "decoded = decoded.detach().numpy()*(max - min) + min\n",
    "loc_x = np.loadtxt('loc_x.dat')\n",
    "# plt.Figure()\n",
    "# plt.title('test_autoencoder')\n",
    "# for i in range(5, 6):\n",
    "#     plt.plot(loc_x, decoded[i, :], linewidth=2, color='red', label='Predition')\n",
    "#     plt.scatter(loc_x, data[i, :], s=5, color='blue', label='Groud Truth')\n",
    "# plt.show()\n",
    "# 生成翼型隐变量数据\n",
    "np.savetxt('cpAE_latent10.dat', encoded.detach().numpy(), delimiter='\\t')"
   ]
  },
  {
   "cell_type": "code",
   "execution_count": null,
   "id": "dd7ef0ae",
   "metadata": {},
   "outputs": [],
   "source": [
    "from cpAE20 import Autoencoder\n",
    "# 加载自编码器\n",
    "autoencoder = torch.load('autoencoder20.pkl', map_location=torch.device('cpu'))\n",
    "criterion = nn.MSELoss()  # 均方误差损失"
   ]
  },
  {
   "cell_type": "code",
   "execution_count": null,
   "id": "99c29fb1",
   "metadata": {},
   "outputs": [],
   "source": [
    "# 加载数据\n",
    "data = np.loadtxt('airfoils_recon_data.dat')[:, 204:]\n",
    "# 压力系数归一化\n",
    "min = np.min(data, axis=0)\n",
    "max = np.max(data, axis=0)\n",
    "data_nom = (data - min) / (max - min)\n",
    "data_nom_tensor = torch.tensor(data_nom, dtype=torch.float32)"
   ]
  },
  {
   "cell_type": "code",
   "execution_count": null,
   "id": "6feeaa22",
   "metadata": {},
   "outputs": [],
   "source": [
    "encoded, decoded = autoencoder(data_nom_tensor)\n",
    "autoencoder_MSE = criterion(decoded, data_nom_tensor)"
   ]
  },
  {
   "cell_type": "code",
   "execution_count": null,
   "id": "89c1a72d",
   "metadata": {},
   "outputs": [],
   "source": [
    "decoded = decoded.detach().numpy()*(max - min) + min\n",
    "loc_x = np.loadtxt('loc_x.dat')\n",
    "# 生成翼型隐变量数据\n",
    "np.savetxt('cpAE_latent20.dat', encoded.detach().numpy(), delimiter='\\t')"
   ]
  },
  {
   "cell_type": "markdown",
   "id": "0a6967a8",
   "metadata": {},
   "source": [
    "# 生成naca翼型压力分布的数据\n",
    "naca_data = np.loadtxt('naca_data.dat')[:, 204:]\n",
    "naca_data_nom = (naca_data - min) / (max - min)\n",
    "naca_data_nom_tensor = torch.tensor(naca_data_nom, dtype=torch.float32)\n",
    "encoded, decoded = autoencoder(naca_data_nom_tensor)\n",
    "autoencoder_MSE = criterion(decoded, naca_data_nom_tensor)\n",
    "\n",
    "decoded = decoded.detach().numpy()*(max - min) + min\n",
    "loc_x = np.loadtxt('loc_x.dat')\n",
    "# 生成翼型隐变量数据\n",
    "np.savetxt('naca_cpAE_latent20.dat', encoded.detach().numpy(), delimiter='\\t')"
   ]
  },
  {
   "cell_type": "code",
   "execution_count": null,
   "id": "17914838",
   "metadata": {},
   "outputs": [],
   "source": [
    "# 生成对比数据隐变量\n",
    "airfoils2_recon_data = np.loadtxt('airfoils2_recon_data.dat')[:, 204:]\n",
    "airfoils2_recon_data_nom = (airfoils2_recon_data - min) / (max - min)\n",
    "airfoils2_recon_data_nom_tensor = torch.tensor(airfoils2_recon_data_nom, dtype=torch.float32)\n",
    "encoded, decoded = autoencoder(airfoils2_recon_data_nom_tensor)\n",
    "autoencoder_MSE = criterion(decoded, airfoils2_recon_data_nom_tensor)\n",
    "decoded = decoded.detach().numpy()*(max - min) + min\n",
    "np.savetxt('airfoils2_recon_data_latent20.dat', encoded.detach().numpy(), delimiter='\\t')"
   ]
  },
  {
   "cell_type": "code",
   "execution_count": null,
   "id": "4827ab9e",
   "metadata": {},
   "outputs": [],
   "source": []
  },
  {
   "cell_type": "markdown",
   "id": "482eaff7",
   "metadata": {
    "lines_to_next_cell": 2
   },
   "source": [
    "from cpAE40 import Autoencoder\n",
    "# 加载自编码器\n",
    "autoencoder = torch.load('autoencoder40.pkl', map_location=torch.device('cpu'))\n",
    "criterion = nn.MSELoss()  # 均方误差损失\n",
    "\n",
    "# 加载数据\n",
    "data = np.loadtxt('airfoils_recon_data.dat')[:, 204:]\n",
    "# 压力系数归一化\n",
    "min = np.min(data, axis=0)\n",
    "max = np.max(data, axis=0)\n",
    "data_nom = (data - min) / (max - min)\n",
    "data_nom_tensor = torch.tensor(data_nom, dtype=torch.float32)\n",
    "\n",
    "encoded, decoded = autoencoder(data_nom_tensor)\n",
    "autoencoder_MSE = criterion(decoded, data_nom_tensor)\n",
    "\n",
    "decoded = decoded.detach().numpy()*(max - min) + min\n",
    "loc_x = np.loadtxt('loc_x.dat')\n",
    "# 生成翼型隐变量数据\n",
    "np.savetxt('cpAE_latent40.dat', encoded.detach().numpy(), delimiter='\\t')\n",
    "\n",
    "\n",
    "\n",
    "from cpAE80 import Autoencoder\n",
    "# 加载自编码器\n",
    "autoencoder = torch.load('autoencoder80.pkl', map_location=torch.device('cpu'))\n",
    "criterion = nn.MSELoss()  # 均方误差损失\n",
    "\n",
    "# 加载数据\n",
    "data = np.loadtxt('airfoils_recon_data.dat')[:, 204:]\n",
    "# 压力系数归一化\n",
    "min = np.min(data, axis=0)\n",
    "max = np.max(data, axis=0)\n",
    "data_nom = (data - min) / (max - min)\n",
    "data_nom_tensor = torch.tensor(data_nom, dtype=torch.float32)\n",
    "\n",
    "encoded, decoded = autoencoder(data_nom_tensor)\n",
    "autoencoder_MSE = criterion(decoded, data_nom_tensor)\n",
    "\n",
    "decoded = decoded.detach().numpy()*(max - min) + min\n",
    "loc_x = np.loadtxt('loc_x.dat')\n",
    "# 生成翼型隐变量数据\n",
    "np.savetxt('cpAE_latent80.dat', encoded.detach().numpy(), delimiter='\\t')"
   ]
  }
 ],
 "metadata": {
  "jupytext": {
   "cell_metadata_filter": "-all",
   "main_language": "python",
   "notebook_metadata_filter": "-all"
  }
 },
 "nbformat": 4,
 "nbformat_minor": 5
}
