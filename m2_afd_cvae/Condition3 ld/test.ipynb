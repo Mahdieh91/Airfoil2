{
 "cells": [
  {
   "cell_type": "code",
   "execution_count": null,
   "id": "e219b31c",
   "metadata": {},
   "outputs": [],
   "source": [
    "import torch\n",
    "import torch.nn as nn\n",
    "import torch.nn.functional as F\n",
    "import numpy as np\n",
    "from matplotlib import pyplot as plt\n",
    "from scipy.signal import savgol_filter\n",
    "from afd_cvae_train import CVAE, loss_function\n",
    "import pandas as pd\n",
    "import seaborn as sns\n",
    "from sklearn.model_selection import train_test_split\n",
    "import subprocess\n",
    "import time"
   ]
  },
  {
   "cell_type": "code",
   "execution_count": null,
   "id": "8a116ba5",
   "metadata": {},
   "outputs": [],
   "source": [
    "# 准备训练数据\n",
    "data = np.loadtxt('airfoils_recon_data.dat')\n",
    "loc_x = np.loadtxt('loc_x.dat')\n",
    "airfoil = data[:, :199]\n",
    "# 随机噪声，防止坐标为0\n",
    "noise = np.zeros((len(airfoil), 199))\n",
    "noise[:, 99] = np.random.normal(0, 1e-5, len(airfoil), )"
   ]
  },
  {
   "cell_type": "code",
   "execution_count": null,
   "id": "60f0a54b",
   "metadata": {},
   "outputs": [],
   "source": [
    "airfoil_min = np.min(airfoil, axis=0)\n",
    "airfoil_max = np.max(airfoil, axis=0)\n",
    "airfoil_nom = (airfoil - airfoil_min) / (airfoil_max - airfoil_min)\n",
    "airfoil_nom_tensor = torch.FloatTensor(airfoil_nom)\n",
    "ld = data[:, 202]\n",
    "ld_nom = (ld - np.min(ld)) / (np.max(ld) - np.min(ld))\n",
    "ld_tensor = torch.FloatTensor(ld_nom)\n",
    "dataset = torch.cat((airfoil_nom_tensor, ld_tensor.view(-1, 1)), dim=1)"
   ]
  },
  {
   "cell_type": "code",
   "execution_count": null,
   "id": "9ed1b27f",
   "metadata": {},
   "outputs": [],
   "source": [
    "# 创建训练集和测试集\n",
    "train_data, test_data = train_test_split(dataset, test_size=0.01, random_state=42)"
   ]
  },
  {
   "cell_type": "code",
   "execution_count": null,
   "id": "c2a22243",
   "metadata": {},
   "outputs": [],
   "source": [
    "# 最佳超参数\n",
    "best_params = ([200, 100], 0.001, 4, 'relu', 512)\n",
    "hidden_sizes, learning_rate, latent_dim, activation_function, batch_size = best_params"
   ]
  },
  {
   "cell_type": "code",
   "execution_count": null,
   "id": "0de67f89",
   "metadata": {},
   "outputs": [],
   "source": [
    "cvae = CVAE(input_dim=199, hidden_sizes=hidden_sizes, latent_dim=latent_dim, activation_function=activation_function)\n",
    "cvae.load_state_dict(torch.load('best_cvae.pth'))"
   ]
  },
  {
   "cell_type": "code",
   "execution_count": null,
   "id": "c5f58da0",
   "metadata": {},
   "outputs": [],
   "source": [
    "ld_recon_data = np.loadtxt('airfoils_ld_recon_data.dat')\n",
    "airfoils_recon = ld_recon_data[:, :199]"
   ]
  },
  {
   "cell_type": "code",
   "execution_count": null,
   "id": "be56bf55",
   "metadata": {
    "lines_to_next_cell": 2
   },
   "outputs": [],
   "source": [
    "# 展示重建翼型\n",
    "loc_x = np.loadtxt('loc_x.dat')\n",
    "plt.figure(figsize=(4, 3), dpi=300)\n",
    "plt.rcParams[\"font.family\"] = \"Times New Roman\"\n",
    "plt.ylabel('y')\n",
    "plt.xlabel('x/c')\n",
    "for i in range(len(airfoils_recon)):\n",
    "# for i in range(500, 600):\n",
    "    plt.plot(loc_x, airfoils_recon[i, :], linewidth=0.5)\n",
    "plt.axis('equal')\n",
    "plt.tight_layout()\n",
    "plt.show()"
   ]
  },
  {
   "cell_type": "code",
   "execution_count": null,
   "id": "cab9d3eb",
   "metadata": {},
   "outputs": [],
   "source": [
    "# 2 生成指定升力系数的翼型\n",
    "cvae.eval()\n",
    "selected_ld = np.linspace(0, 1, 1000)\n",
    "selected_ld = torch.tensor(selected_ld, dtype=torch.float32)\n",
    "sample_mu = np.random.normal(loc=0, scale=1.0, size=(len(selected_ld), latent_dim))\n",
    "sample_mu = torch.tensor(sample_mu, dtype=torch.float32)\n",
    "recon = cvae.decoder(sample_mu, selected_ld.view(-1, 1))\n",
    "airfoils_recon = recon.detach().numpy()\n",
    "airfoils_recon = airfoils_recon * (airfoil_max - airfoil_min) + airfoil_min"
   ]
  },
  {
   "cell_type": "code",
   "execution_count": null,
   "id": "6ed9c459",
   "metadata": {},
   "outputs": [],
   "source": [
    "np.savetxt('airfoils_ld_recon.dat', airfoils_recon, fmt='%0.6f')\n",
    "time.sleep(1)\n",
    "subprocess.run([\"python\", \"1getData.py\"])\n",
    "time.sleep(10)\n",
    "selected_ld = np.linspace(0, 1, 1000)*(np.max(ld) - np.min(ld))+np.min(ld)\n",
    "ld_recon = np.loadtxt('airfoils_ld_recon.dat')\n",
    "ld_recon_data = np.loadtxt('airfoils_ld_recon_data.dat')\n",
    "ld_recon_data_airfoil = ld_recon_data[:, :199]"
   ]
  },
  {
   "cell_type": "code",
   "execution_count": null,
   "id": "13784586",
   "metadata": {},
   "outputs": [],
   "source": [
    "# 初始化一个列表来存储保留的 selected_ld\n",
    "filtered_selected_ld = []\n",
    "# 遍历每一行 ld_recon\n",
    "for i, ld in enumerate(ld_recon):\n",
    "    # 检查该行是否在 ld_recon_data 中\n",
    "    if any((ld_recon_data_airfoil == ld).all(axis=1)):\n",
    "        # 如果存在，则保留 selected_ld 对应位置的元素\n",
    "        filtered_selected_ld.append(selected_ld[i])\n",
    "# 转换为numpy数组\n",
    "filtered_selected_ld = np.array(filtered_selected_ld)"
   ]
  },
  {
   "cell_type": "code",
   "execution_count": null,
   "id": "d904f49b",
   "metadata": {},
   "outputs": [],
   "source": [
    "ld_mse = np.mean((filtered_selected_ld - ld_recon_data[:, 202]) ** 2)\n",
    "print('ld MSE：', ld_mse)"
   ]
  },
  {
   "cell_type": "code",
   "execution_count": null,
   "id": "5cf17223",
   "metadata": {},
   "outputs": [],
   "source": [
    "# 设置画布大小和分辨率\n",
    "plt.figure(figsize=(4, 3.5), dpi=300)\n",
    "plt.rcParams[\"font.family\"] = \"Times New Roman\"\n",
    "plt.rcParams.update({'font.size': 12})  # 调整为更小的字体大小\n",
    "plt.plot([np.min(filtered_selected_ld), np.max(filtered_selected_ld)], [np.min(filtered_selected_ld), np.max(filtered_selected_ld)], color='black', linewidth=1)\n",
    "plt.scatter(filtered_selected_ld, ld_recon_data[:, 202], s=8, color='g')\n",
    "plt.xlim(np.min(filtered_selected_ld), np.max(filtered_selected_ld))\n",
    "plt.ylim(np.min(filtered_selected_ld), np.max(filtered_selected_ld))\n",
    "plt.xlabel('Specified ld', fontsize=12)\n",
    "plt.ylabel('Reconstructed ld', fontsize=12)\n",
    "plt.tight_layout()\n",
    "# output_path = r'E:\\D_PHD\\D6_Project\\pre_cp\\AirfoilVAE\\image\\airfiol_cvae_ld_accuracy.png'\n",
    "# plt.savefig(output_path, dpi=300)\n",
    "plt.show()"
   ]
  },
  {
   "cell_type": "code",
   "execution_count": null,
   "id": "2cf44591",
   "metadata": {},
   "outputs": [],
   "source": []
  },
  {
   "cell_type": "markdown",
   "id": "0358d409",
   "metadata": {},
   "source": [
    "# 展示重建翼型\n",
    "loc_x = np.loadtxt('loc_x.dat')\n",
    "plt.figure(figsize=(4, 3), dpi=300)\n",
    "plt.rcParams[\"font.family\"] = \"Times New Roman\"\n",
    "plt.ylabel('y')\n",
    "plt.xlabel('x/c')\n",
    "for i in range(len(airfoils_recon)):\n",
    "# for i in range(980, 1000):\n",
    "    plt.plot(loc_x, airfoils_recon[i, :], linewidth=0.5)\n",
    "plt.axis('equal')\n",
    "plt.tight_layout()\n",
    "plt.show()\n",
    "\n",
    "cvae_diversity = np.mean(np.var(airfoils_recon, axis=0))\n",
    "airfoil_filter = np.apply_along_axis(lambda x: savgol_filter(x, 15, 3), axis=1, arr=airfoils_recon)\n",
    "cvae_roughness = np.mean(np.mean((airfoils_recon - airfoil_filter) ** 2, axis=1))\n",
    "print(cvae_diversity/0.00038256164690759424)\n",
    "print(cvae_roughness/2.9165800679528876e-09)"
   ]
  },
  {
   "cell_type": "markdown",
   "id": "ea0028c1",
   "metadata": {},
   "source": [
    "# 2 生成100个厚度为0.15的翼型\n",
    "target_ld = torch.FloatTensor([[0.15]])\n",
    "target_ld = target_ld.repeat(100, 1, 1)\n",
    "sample_mu = np.random.normal(loc=0, scale=1.0, size=(100, latent_dim))\n",
    "sample_mu = torch.tensor(sample_mu, dtype=torch.float32)\n",
    "\n",
    "recon = cvae.decoder(sample_mu, target_ld.view(-1, 1))\n",
    "airfoils_recon = recon.detach().numpy()\n",
    "# 反归一化\n",
    "airfoils_recon = airfoils_recon * (airfoil_max - airfoil_min) + airfoil_min\n",
    "loc_x = np.loadtxt('loc_x.dat')\n",
    "# plt.figure(figsize=(4, 3), dpi=300)\n",
    "# plt.rcParams[\"font.family\"] = \"Times New Roman\"\n",
    "# plt.ylabel('y')\n",
    "# plt.xlabel('x/c')\n",
    "# for i in range(len(airfoils_recon)):\n",
    "#     plt.plot(loc_x, airfoils_recon[i, :], linewidth=0.5)\n",
    "# plt.axis('equal')\n",
    "# plt.tight_layout()\n",
    "# plt.show()\n",
    "\n",
    "# plot三维翼型图\n",
    "max_y = np.argmax(airfoils_recon, axis=1)\n",
    "sorted_indices = np.lexsort((max_y, airfoils_recon[np.arange(len(airfoils_recon)), max_y]))\n",
    "sorted_airfoil = airfoils_recon[sorted_indices][::-1]\n",
    "num_airfoils, num_points = sorted_airfoil.shape\n",
    "cmap = plt.get_cmap('winter')\n",
    "alpha = np.linspace(0.6, 1, 100)[::-1]\n",
    "fig = plt.figure(dpi=300)\n",
    "ax = fig.add_subplot(111, projection='3d')\n",
    "for i in range(num_airfoils):\n",
    "# for i in range(5):\n",
    "    # x = np.arange(num_airfoils)\n",
    "    x = loc_x\n",
    "    y = np.full_like(x, i)\n",
    "    z = sorted_airfoil[i, :]\n",
    "    ax.plot(y, x, z, color=cmap(i/100), alpha=alpha[i])\n",
    "# ax.invert_xaxis()\n",
    "# ax.set_box_aspect([1, 1, 0.15])\n",
    "ax.set_xlabel('Airfoil num', fontsize=12, fontfamily='Times New Roman')\n",
    "ax.set_ylabel('x/c', fontsize=12, fontstyle='italic', fontfamily='Times New Roman')\n",
    "ax.set_zlabel('y', fontsize=12, fontstyle='italic', fontfamily='Times New Roman')\n",
    "ax.set_zlim(-0.4, 0.4)\n",
    "plt.rcParams[\"font.family\"] = \"Times New Roman\"\n",
    "plt.tight_layout()\n",
    "output_path = r'E:\\D_PHD\\D6_Project\\pre_cp\\AirfoilVAE\\image\\airfiol_cvae_ld_airfoil.png'\n",
    "plt.savefig(output_path, dpi=300)\n",
    "plt.show()"
   ]
  },
  {
   "cell_type": "markdown",
   "id": "6d8390ef",
   "metadata": {},
   "source": [
    "# 3 生成误差分布图\n",
    "plt.Figure(figsize=(3.5, 4), dpi=300)\n",
    "plt.rcParams[\"font.family\"] = \"Times New Roman\"\n",
    "plt.rcParams.update({'font.size': 20})\n",
    "plt.title('Condition1 ld')\n",
    "plt.plot([0, 0.5], [0, 0.5], color='black', linewidth=1)\n",
    "plt.scatter(selected_ld.numpy(), airfoils_recon_ld, s=8, color='g')\n",
    "plt.xlim(0, 0.5)\n",
    "plt.ylim(0, 0.5)\n",
    "plt.xlabel('Specified ld')\n",
    "plt.ylabel('Reconstructed ld', fontdict={'fontname': 'Times New Roman', 'fontsize': 12})\n",
    "# plt.axis('equal')\n",
    "plt.tight_layout()\n",
    "plt.show()"
   ]
  },
  {
   "cell_type": "markdown",
   "id": "cc09773b",
   "metadata": {},
   "source": [
    "# 设置画布大小和分辨率\n",
    "plt.figure(figsize=(4, 3.5), dpi=300)\n",
    "plt.rcParams[\"font.family\"] = \"Times New Roman\"\n",
    "plt.rcParams.update({'font.size': 12})  # 调整为更小的字体大小\n",
    "plt.plot([np.min(ld), np.max(ld)], [np.min(ld), np.max(ld)], color='black', linewidth=1)\n",
    "plt.scatter(selected_ld.numpy(), airfoils_recon_ld, s=8, color='g')\n",
    "plt.xlim(np.min(ld), np.max(ld))\n",
    "plt.ylim(np.min(ld), np.max(ld))\n",
    "plt.xlabel('Specified ld', fontsize=12)\n",
    "plt.ylabel('Reconstructed ld', fontsize=12)\n",
    "plt.tight_layout()\n",
    "output_path = r'E:\\D_PHD\\D6_Project\\pre_cp\\AirfoilVAE\\image\\airfiol_cvae_ld_accuracy.png'\n",
    "plt.savefig(output_path, dpi=300)\n",
    "plt.show()"
   ]
  }
 ],
 "metadata": {
  "jupytext": {
   "cell_metadata_filter": "-all",
   "main_language": "python",
   "notebook_metadata_filter": "-all"
  }
 },
 "nbformat": 4,
 "nbformat_minor": 5
}
