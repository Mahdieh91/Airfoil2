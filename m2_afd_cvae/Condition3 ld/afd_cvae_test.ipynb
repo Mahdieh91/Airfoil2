{
 "cells": [
  {
   "cell_type": "code",
   "execution_count": null,
   "id": "122fd644",
   "metadata": {},
   "outputs": [],
   "source": [
    "import torch\n",
    "import torch.nn as nn\n",
    "import torch.nn.functional as F\n",
    "import numpy as np\n",
    "from matplotlib import pyplot as plt\n",
    "from scipy.signal import savgol_filter\n",
    "from afd_cvae_train import CVAE, loss_function\n",
    "import pandas as pd\n",
    "import seaborn as sns\n",
    "from sklearn.model_selection import train_test_split\n",
    "import subprocess\n",
    "import time"
   ]
  },
  {
   "cell_type": "code",
   "execution_count": null,
   "id": "e0a813c2",
   "metadata": {},
   "outputs": [],
   "source": [
    "loc_x = np.loadtxt('loc_x.dat')\n",
    "data = np.loadtxt('airfoils_recon_data.dat')\n",
    "data = data[(data[:, 200] > 0.5) & (data[:, 200] < 1.5)]  # cl\n",
    "data = data[(data[:, 201] > 0.01)]  # cd\n",
    "data = data[(data[:, 202] > 15) & (data[:, 202] < 65)]  # ld\n",
    "airfoil = data[:, :199]"
   ]
  },
  {
   "cell_type": "code",
   "execution_count": null,
   "id": "1a3c45e4",
   "metadata": {},
   "outputs": [],
   "source": [
    "airfoil_min = np.min(airfoil, axis=0)\n",
    "airfoil_max = np.max(airfoil, axis=0)\n",
    "airfoil_nom = (airfoil - airfoil_min) / (airfoil_max - airfoil_min)\n",
    "airfoil_nom_tensor = torch.FloatTensor(airfoil_nom)\n",
    "ld = data[:, 202]\n",
    "ld_nom = (ld - np.min(ld)) / (np.max(ld) - np.min(ld))\n",
    "ld_tensor = torch.FloatTensor(ld_nom)\n",
    "dataset = torch.cat((airfoil_nom_tensor, ld_tensor.view(-1, 1)), dim=1)"
   ]
  },
  {
   "cell_type": "code",
   "execution_count": null,
   "id": "26e8b31b",
   "metadata": {},
   "outputs": [],
   "source": [
    "train_data, test_data = train_test_split(dataset, test_size=0.01, random_state=42)"
   ]
  },
  {
   "cell_type": "code",
   "execution_count": null,
   "id": "799ca5be",
   "metadata": {},
   "outputs": [],
   "source": [
    "best_params = ([200, 100], 0.001, 4, 'relu', 512)\n",
    "hidden_sizes, learning_rate, latent_dim, activation_function, batch_size = best_params"
   ]
  },
  {
   "cell_type": "code",
   "execution_count": null,
   "id": "5994a55f",
   "metadata": {},
   "outputs": [],
   "source": [
    "cvae = CVAE(input_dim=199, hidden_sizes=hidden_sizes, latent_dim=latent_dim, activation_function=activation_function)\n",
    "cvae.load_state_dict(torch.load('best_cvae.pth'))"
   ]
  },
  {
   "cell_type": "code",
   "execution_count": null,
   "id": "4c8da55e",
   "metadata": {},
   "outputs": [],
   "source": [
    "# generate the selected ld airfoils\n",
    "cvae.eval()\n",
    "selected_ld = np.linspace(0, 1, 1000)\n",
    "selected_ld = torch.tensor(selected_ld, dtype=torch.float32)\n",
    "sample_mu = np.random.normal(loc=0, scale=1.0, size=(len(selected_ld), latent_dim))\n",
    "sample_mu = torch.tensor(sample_mu, dtype=torch.float32)\n",
    "recon = cvae.decoder(sample_mu, selected_ld.view(-1, 1))\n",
    "airfoils_recon = recon.detach().numpy()\n",
    "airfoils_recon = airfoils_recon * (airfoil_max - airfoil_min) + airfoil_min"
   ]
  },
  {
   "cell_type": "code",
   "execution_count": null,
   "id": "374b4baa",
   "metadata": {},
   "outputs": [],
   "source": [
    "selected_ld = np.linspace(0, 1, 1000)*(np.max(ld) - np.min(ld))+np.min(ld)\n",
    "np.savetxt('airfoils_ld_recon.dat', airfoils_recon, fmt='%0.6f')\n",
    "np.savetxt('selected_ld.dat', selected_ld, fmt='%0.6f')\n",
    "time.sleep(1)\n",
    "subprocess.run([\"python\", \"1getData.py\"])\n",
    "time.sleep(4)"
   ]
  },
  {
   "cell_type": "code",
   "execution_count": null,
   "id": "5db5bdf0",
   "metadata": {},
   "outputs": [],
   "source": [
    "ld_recon_data = np.loadtxt('airfoils_ld_recon_data.dat')\n",
    "ld_recon_data_airfoil = ld_recon_data[:, :199]"
   ]
  },
  {
   "cell_type": "code",
   "execution_count": null,
   "id": "22543f82",
   "metadata": {},
   "outputs": [],
   "source": [
    "cvae_diversity = np.mean(np.var(ld_recon_data_airfoil, axis=0))\n",
    "airfoil_filter = np.apply_along_axis(lambda x: savgol_filter(x, 15, 3), axis=1, arr=ld_recon_data_airfoil)\n",
    "cvae_roughness = np.mean(np.mean((ld_recon_data_airfoil - airfoil_filter) ** 2, axis=1))\n",
    "print(cvae_diversity/0.00038256164690759424)\n",
    "print(cvae_roughness/2.9165800679528876e-09)"
   ]
  },
  {
   "cell_type": "code",
   "execution_count": null,
   "id": "ea7ba162",
   "metadata": {},
   "outputs": [],
   "source": [
    "selected_ld = ld_recon_data[:, 202]\n",
    "rencon_ld = ld_recon_data[:, 203]"
   ]
  },
  {
   "cell_type": "code",
   "execution_count": null,
   "id": "6da25be5",
   "metadata": {},
   "outputs": [],
   "source": [
    "ld_mse = np.mean((selected_ld - rencon_ld) ** 2)\n",
    "print('ld MSE：', ld_mse)"
   ]
  },
  {
   "cell_type": "code",
   "execution_count": null,
   "id": "e29199ba",
   "metadata": {},
   "outputs": [],
   "source": [
    "# r2\n",
    "y_true = selected_ld\n",
    "y_pred = rencon_ld\n",
    "mse = np.mean((y_true - y_pred) ** 2)\n",
    "ss_res = np.sum((y_true - y_pred) ** 2)\n",
    "ss_tot = np.sum((y_true - np.mean(y_true)) ** 2)\n",
    "r2 = 1 - (ss_res / ss_tot)\n",
    "print(\"Coefficient of determination (R^2):\", r2)"
   ]
  },
  {
   "cell_type": "code",
   "execution_count": null,
   "id": "4c72706f",
   "metadata": {},
   "outputs": [],
   "source": [
    "# MAE\n",
    "mae = np.mean(np.abs(y_true - y_pred))\n",
    "print(\"Mean Absolute Error (MAE):\", mae)"
   ]
  },
  {
   "cell_type": "code",
   "execution_count": null,
   "id": "cdd75679",
   "metadata": {},
   "outputs": [],
   "source": [
    "cvae_diversity = np.mean(np.var(airfoils_recon, axis=0))\n",
    "airfoil_filter = np.apply_along_axis(lambda x: savgol_filter(x, 15, 3), axis=1, arr=airfoils_recon)\n",
    "cvae_roughness = np.mean(np.mean((airfoils_recon - airfoil_filter) ** 2, axis=1))\n",
    "print(cvae_diversity/0.00038256164690759424)\n",
    "print(cvae_roughness/2.9165800679528876e-09)"
   ]
  }
 ],
 "metadata": {
  "jupytext": {
   "cell_metadata_filter": "-all",
   "main_language": "python",
   "notebook_metadata_filter": "-all"
  }
 },
 "nbformat": 4,
 "nbformat_minor": 5
}
