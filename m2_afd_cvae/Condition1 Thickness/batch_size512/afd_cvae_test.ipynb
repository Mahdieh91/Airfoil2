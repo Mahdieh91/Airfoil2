{
 "cells": [
  {
   "cell_type": "code",
   "execution_count": null,
   "id": "00810f38",
   "metadata": {},
   "outputs": [],
   "source": [
    "import torch\n",
    "import torch.nn as nn\n",
    "import torch.nn.functional as F\n",
    "import numpy as np\n",
    "from matplotlib import pyplot as plt\n",
    "from scipy.signal import savgol_filter\n",
    "from afd_cvae_train import CVAE, loss_function\n",
    "import pandas as pd\n",
    "import seaborn as sns\n",
    "from sklearn.model_selection import train_test_split"
   ]
  },
  {
   "cell_type": "code",
   "execution_count": null,
   "id": "8b66137c",
   "metadata": {},
   "outputs": [],
   "source": [
    "# load data\n",
    "data = np.loadtxt('airfoils_recon_data.dat')\n",
    "data = data[(data[:, 199] > 0.05) & (data[:, 199] < 0.3)]  # thickness\n",
    "airfoil = data[:, :199]"
   ]
  },
  {
   "cell_type": "code",
   "execution_count": null,
   "id": "ca814e94",
   "metadata": {},
   "outputs": [],
   "source": [
    "airfoil_min = np.min(airfoil, axis=0)\n",
    "airfoil_max = np.max(airfoil, axis=0)\n",
    "airfoil_nom = (airfoil - airfoil_min) / (airfoil_max - airfoil_min)\n",
    "airfoil_nom_tensor = torch.FloatTensor(airfoil_nom)\n",
    "thickness = data[:, 199]\n",
    "thickness_tensor = torch.FloatTensor(thickness)\n",
    "dataset = torch.cat((airfoil_nom_tensor, thickness_tensor.view(-1, 1)), dim=1)"
   ]
  },
  {
   "cell_type": "code",
   "execution_count": null,
   "id": "3e21e081",
   "metadata": {},
   "outputs": [],
   "source": [
    "# split the train set and test set\n",
    "train_data, test_data = train_test_split(dataset, test_size=0.01, random_state=42)"
   ]
  },
  {
   "cell_type": "code",
   "execution_count": null,
   "id": "3d4febb8",
   "metadata": {},
   "outputs": [],
   "source": [
    "# best hyperparameters\n",
    "best_params = ([200, 100], 0.001, 4, 'relu', 512)\n",
    "hidden_sizes, learning_rate, latent_dim, activation_function, batch_size = best_params"
   ]
  },
  {
   "cell_type": "code",
   "execution_count": null,
   "id": "f5e26b45",
   "metadata": {},
   "outputs": [],
   "source": [
    "cvae = CVAE(input_dim=199, hidden_sizes=hidden_sizes, latent_dim=latent_dim, activation_function=activation_function)\n",
    "cvae.load_state_dict(torch.load('best_cvae.pth'))"
   ]
  },
  {
   "cell_type": "code",
   "execution_count": null,
   "id": "9f985a1e",
   "metadata": {},
   "outputs": [],
   "source": [
    "# generate the selected thickness airfols\n",
    "cvae.eval()\n",
    "selected_thickness = np.linspace(0.05, 0.3, 1000)\n",
    "selected_thickness = torch.tensor(selected_thickness, dtype=torch.float32)\n",
    "sample_mu = np.random.normal(loc=0, scale=1.0, size=(len(selected_thickness), latent_dim))\n",
    "sample_mu = torch.tensor(sample_mu, dtype=torch.float32)\n",
    "recon = cvae.decoder(sample_mu, selected_thickness.view(-1, 1))\n",
    "airfoils_recon = recon.detach().numpy()\n",
    "airfoils_recon = airfoils_recon * (airfoil_max - airfoil_min) + airfoil_min"
   ]
  },
  {
   "cell_type": "code",
   "execution_count": null,
   "id": "2f090755",
   "metadata": {},
   "outputs": [],
   "source": [
    "airfoils_recon_flipped = np.fliplr(airfoils_recon)\n",
    "airfoils_recon_thickness = np.max(airfoils_recon - airfoils_recon_flipped, axis=1)\n",
    "thickness_mse = np.mean((airfoils_recon_thickness - selected_thickness.numpy()) ** 2)\n",
    "print('thickness_mse：', thickness_mse)"
   ]
  },
  {
   "cell_type": "code",
   "execution_count": null,
   "id": "737c45c5",
   "metadata": {},
   "outputs": [],
   "source": [
    "# compute r2\n",
    "y_true = selected_thickness.numpy()\n",
    "y_pred = airfoils_recon_thickness\n",
    "mse = np.mean((y_true - y_pred) ** 2)\n",
    "ss_res = np.sum((y_true - y_pred) ** 2)\n",
    "ss_tot = np.sum((y_true - np.mean(y_true)) ** 2)\n",
    "r2 = 1 - (ss_res / ss_tot)\n",
    "print(\"Coefficient of determination (R^2):\", r2)"
   ]
  },
  {
   "cell_type": "code",
   "execution_count": null,
   "id": "cd32ebd9",
   "metadata": {},
   "outputs": [],
   "source": [
    "# compute MAE\n",
    "mae = np.mean(np.abs(y_true - y_pred))\n",
    "print(\"Mean Absolute Error (MAE):\", mae)"
   ]
  },
  {
   "cell_type": "code",
   "execution_count": null,
   "id": "21121289",
   "metadata": {},
   "outputs": [],
   "source": [
    "# compute relative diversity and relative roughness\n",
    "cvae_diversity = np.mean(np.var(airfoils_recon, axis=0))\n",
    "airfoil_filter = np.apply_along_axis(lambda x: savgol_filter(x, 15, 3), axis=1, arr=airfoils_recon)\n",
    "cvae_roughness = np.mean(np.mean((airfoils_recon - airfoil_filter) ** 2, axis=1))\n",
    "print(cvae_diversity/0.00038256164690759424)\n",
    "print(cvae_roughness/2.9165800679528876e-09)"
   ]
  }
 ],
 "metadata": {
  "jupytext": {
   "cell_metadata_filter": "-all",
   "main_language": "python",
   "notebook_metadata_filter": "-all"
  }
 },
 "nbformat": 4,
 "nbformat_minor": 5
}
